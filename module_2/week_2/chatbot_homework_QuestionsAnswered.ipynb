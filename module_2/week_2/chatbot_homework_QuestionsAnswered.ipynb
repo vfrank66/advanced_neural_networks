{
 "cells": [
  {
   "cell_type": "code",
   "execution_count": 37,
   "metadata": {},
   "outputs": [],
   "source": [
    "from keras.models import Model\n",
    "from keras.layers.recurrent import LSTM\n",
    "from keras.layers import Dense, Input, Embedding\n",
    "from keras.preprocessing.sequence import pad_sequences\n",
    "from keras.callbacks import ModelCheckpoint, TensorBoard\n",
    "from collections import Counter\n",
    "import nltk\n",
    "import numpy as np\n",
    "from sklearn.model_selection import train_test_split\n",
    "import pickle"
   ]
  },
  {
   "cell_type": "code",
   "execution_count": 38,
   "metadata": {
    "scrolled": true
   },
   "outputs": [
    {
     "name": "stderr",
     "output_type": "stream",
     "text": [
      "[nltk_data] Error loading punkt: <urlopen error Tunnel connection\n",
      "[nltk_data]     failed: 400 Bad Request>\n"
     ]
    },
    {
     "data": {
      "text/plain": [
       "False"
      ]
     },
     "execution_count": 38,
     "metadata": {},
     "output_type": "execute_result"
    }
   ],
   "source": [
    "# you should only need to run this once.\n",
    "#nltk.set_proxy('http://web-spfld-vwsa2.int.trsil.org:9001/proxy.pac', ('frankvw','Basement#5'))\n",
    "nltk.download('punkt')"
   ]
  },
  {
   "cell_type": "code",
   "execution_count": 39,
   "metadata": {},
   "outputs": [],
   "source": [
    "class TextData:\n",
    "    \"\"\"data class for text data\"\"\"\n",
    "    \n",
    "    def __init__(self, input_texts, target_texts, input_counter, target_counter):\n",
    "        self.input_texts = input_texts\n",
    "        self.target_texts = target_texts\n",
    "        self.input_counter = input_counter\n",
    "        self.target_counter = target_counter\n",
    "\n",
    "        \n",
    "    def save(self):\n",
    "        self.filename = \"./model/text_data.pkl\"\n",
    "        pickle.dump(self, open(self.filename,'wb'))\n",
    "    \n",
    "    @classmethod\n",
    "    def load(self):\n",
    "        self.filename = \"./model/text_data.pkl\"\n",
    "        return pickle.load(open(self.filename,'rb'))\n"
   ]
  },
  {
   "cell_type": "code",
   "execution_count": 40,
   "metadata": {},
   "outputs": [],
   "source": [
    "def load_data(path=\"./data/movie_lines.txt\", max_seq_length=20, max_vocab_size=100):\n",
    "    \"\"\"Based on: https://github.com/subpath/ChatBot/blob/master/Chatbot_training.py\"\"\"\n",
    "    \n",
    "    input_counter = Counter()\n",
    "    target_counter = Counter()\n",
    "    input_texts = []\n",
    "    target_texts = []\n",
    "\n",
    "    with open(path, 'r', encoding=\"latin-1\") as f:\n",
    "        df = f.read()\n",
    "    rows = df.split('\\n')\n",
    "    lines = [row.split(' +++$+++ ')[-1] for row in rows]\n",
    "\n",
    "\n",
    "    prev_words = []\n",
    "    for line in lines:\n",
    "\n",
    "        next_words = [w.lower() for w in nltk.word_tokenize(line)]\n",
    "        if len(next_words) > max_seq_length:\n",
    "            next_words = next_words[0:max_seq_length]\n",
    "\n",
    "        if len(prev_words) > 0:\n",
    "            input_texts.append(prev_words)\n",
    "            for w in prev_words:\n",
    "                input_counter[w] += 1\n",
    "            target_words = next_words[:]\n",
    "            target_words.insert(0, 'START')\n",
    "            target_words.append('END')\n",
    "            for w in target_words:\n",
    "                target_counter[w] += 1\n",
    "            target_texts.append(target_words)\n",
    "\n",
    "        prev_words = next_words\n",
    "    td = TextData(input_texts, target_texts, input_counter, target_counter)\n",
    "    return td"
   ]
  },
  {
   "cell_type": "code",
   "execution_count": 41,
   "metadata": {},
   "outputs": [],
   "source": [
    "def encode_raw_text_data(text_data, max_vocab_size=100):\n",
    "    input_word2idx = dict()\n",
    "    target_word2idx = dict()\n",
    "    for idx, word in enumerate(text_data.input_counter.most_common(max_vocab_size)):\n",
    "        input_word2idx[word[0]] = idx + 2\n",
    "    for idx, word in enumerate(text_data.target_counter.most_common(max_vocab_size)):\n",
    "        target_word2idx[word[0]] = idx + 1\n",
    "\n",
    "    input_word2idx['PAD'] = 0\n",
    "    input_word2idx['UNK'] = 1\n",
    "    target_word2idx['UNK'] = 0\n",
    "\n",
    "    input_idx2word = dict([(idx, word) for word, idx in input_word2idx.items()])\n",
    "    target_idx2word = dict([(idx, word) for word, idx in target_word2idx.items()])\n",
    "\n",
    "    num_encoder_tokens = len(input_idx2word)\n",
    "    num_decoder_tokens = len(target_idx2word)\n",
    "\n",
    "    text_data.input_word2idx = input_word2idx\n",
    "    text_data.input_idx2word = input_idx2word\n",
    "    text_data.target_word2idx = target_word2idx\n",
    "    text_data.target_idx2word = target_idx2word\n",
    "    \n",
    "\n",
    "    encoder_input_data = []\n",
    "\n",
    "    encoder_max_seq_length = 0\n",
    "    decoder_max_seq_length = 0\n",
    "\n",
    "    for input_words, target_words in zip(text_data.input_texts, text_data.target_texts):\n",
    "        encoder_input_wids = []\n",
    "        for w in input_words:\n",
    "            w2idx = 1\n",
    "            if w in input_word2idx:\n",
    "                w2idx = input_word2idx[w]\n",
    "            encoder_input_wids.append(w2idx)\n",
    "\n",
    "        encoder_input_data.append(encoder_input_wids)\n",
    "        encoder_max_seq_length = max(len(encoder_input_wids), encoder_max_seq_length)\n",
    "        decoder_max_seq_length = max(len(target_words), decoder_max_seq_length)\n",
    "\n",
    "    \n",
    "    text_data.encoder_input_data = encoder_input_data\n",
    "    text_data.num_encoder_tokens = num_encoder_tokens\n",
    "    text_data.num_decoder_tokens = num_decoder_tokens\n",
    "    text_data.encoder_max_seq_length = encoder_max_seq_length\n",
    "    text_data.decoder_max_seq_length = decoder_max_seq_length\n",
    "    \n",
    "    return text_data\n",
    "    "
   ]
  },
  {
   "cell_type": "code",
   "execution_count": 42,
   "metadata": {},
   "outputs": [],
   "source": [
    "def generate_batch(input_data, output_text_data, text_data, batch_size=128):\n",
    "    num_batches = len(input_data) // batch_size\n",
    "    while True:\n",
    "        for batchIdx in range(0, num_batches):\n",
    "            start = batchIdx * batch_size\n",
    "            end = (batchIdx + 1) * batch_size\n",
    "            encoder_input_data_batch = pad_sequences(input_data[start:end], text_data.encoder_max_seq_length)\n",
    "            decoder_target_data_batch = np.zeros(shape=(batch_size, text_data.decoder_max_seq_length, text_data.num_decoder_tokens))\n",
    "            decoder_input_data_batch = np.zeros(shape=(batch_size, text_data.decoder_max_seq_length, text_data.num_decoder_tokens))\n",
    "            for lineIdx, target_words in enumerate(output_text_data[start:end]):\n",
    "                for idx, w in enumerate(target_words):\n",
    "                    w2idx = 0\n",
    "                    if w in text_data.target_word2idx:\n",
    "                        w2idx = text_data.target_word2idx[w]\n",
    "                    decoder_input_data_batch[lineIdx, idx, w2idx] = 1\n",
    "                    if idx > 0:\n",
    "                        decoder_target_data_batch[lineIdx, idx - 1, w2idx] = 1\n",
    "            yield [encoder_input_data_batch, decoder_input_data_batch], decoder_target_data_batch"
   ]
  },
  {
   "cell_type": "code",
   "execution_count": 43,
   "metadata": {},
   "outputs": [],
   "source": [
    "def build_model(text_data, hidden_units=256):\n",
    "    encoder_inputs = Input(shape=(None,), name='encoder_inputs')\n",
    "    encoder_embedding = Embedding(input_dim=text_data.num_encoder_tokens, output_dim=hidden_units,\n",
    "                                  input_length=text_data.encoder_max_seq_length, name='encoder_embedding')\n",
    "    encoder_lstm = LSTM(units=hidden_units, return_state=True, name='encoder_lstm')\n",
    "    encoder_outputs, encoder_state_h, encoder_state_c = encoder_lstm(encoder_embedding(encoder_inputs))\n",
    "    encoder_states = [encoder_state_h, encoder_state_c]\n",
    "\n",
    "    decoder_inputs = Input(shape=(None, text_data.num_decoder_tokens), name='decoder_inputs')\n",
    "    decoder_lstm = LSTM(units=hidden_units, return_state=True, return_sequences=True, name='decoder_lstm')\n",
    "    decoder_outputs, decoder_state_h, decoder_state_c = decoder_lstm(decoder_inputs,\n",
    "                                                                     initial_state=encoder_states)\n",
    "    decoder_dense = Dense(units=text_data.num_decoder_tokens, activation='softmax', name='decoder_dense')\n",
    "    decoder_outputs = decoder_dense(decoder_outputs)\n",
    "\n",
    "    model = Model([encoder_inputs, decoder_inputs], decoder_outputs)\n",
    "\n",
    "    model.compile(loss='categorical_crossentropy', optimizer='adam')\n",
    "    \n",
    "    return model"
   ]
  },
  {
   "cell_type": "code",
   "execution_count": 45,
   "metadata": {
    "scrolled": true
   },
   "outputs": [],
   "source": [
    "text_data = load_data()\n",
    "text_data = encode_raw_text_data(text_data)"
   ]
  },
  {
   "cell_type": "code",
   "execution_count": 47,
   "metadata": {
    "scrolled": true
   },
   "outputs": [
    {
     "name": "stdout",
     "output_type": "stream",
     "text": [
      "HW Q1: Build a loop that prints the first 10 text_data.input_texts and text_data.target_texts\n",
      "text_data.input_texts\n",
      "['they', 'do', 'not', '!']\n",
      "['they', 'do', 'to', '!']\n",
      "['i', 'hope', 'so', '.']\n",
      "['she', 'okay', '?']\n",
      "['let', \"'s\", 'go', '.']\n",
      "['wow']\n",
      "['okay', '--', 'you', \"'re\", 'gon', 'na', 'need', 'to', 'learn', 'how', 'to', 'lie', '.']\n",
      "['no']\n",
      "['i', \"'m\", 'kidding', '.', 'you', 'know', 'how', 'sometimes', 'you', 'just', 'become', 'this', '``', 'persona', \"''\", '?', 'and', 'you', 'do', \"n't\"]\n",
      "['like', 'my', 'fear', 'of', 'wearing', 'pastels', '?']\n",
      "text_data.target_texts\n",
      "['START', 'i', 'hope', 'so', '.', 'END']\n",
      "['START', 'she', 'okay', '?', 'END']\n",
      "['START', 'let', \"'s\", 'go', '.', 'END']\n",
      "['START', 'wow', 'END']\n",
      "['START', 'okay', '--', 'you', \"'re\", 'gon', 'na', 'need', 'to', 'learn', 'how', 'to', 'lie', '.', 'END']\n",
      "['START', 'no', 'END']\n",
      "['START', 'i', \"'m\", 'kidding', '.', 'you', 'know', 'how', 'sometimes', 'you', 'just', 'become', 'this', '``', 'persona', \"''\", '?', 'and', 'you', 'do', \"n't\", 'END']\n",
      "['START', 'like', 'my', 'fear', 'of', 'wearing', 'pastels', '?', 'END']\n",
      "['START', 'the', '``', 'real', 'you', \"''\", '.', 'END']\n"
     ]
    }
   ],
   "source": [
    "print(\"HW Q1: Build a loop that prints the first 10 text_data.input_texts and text_data.target_texts\")\n",
    "print('')\n",
    "print(\"text_data.input_texts\")\n",
    "print('')\n",
    "for line in text_data.input_texts[:10]:\n",
    "    print(line)\n",
    "print('')\n",
    "print(\"text_data.target_texts\")\n",
    "print('')\n",
    "for line in text_data.target_texts[1:10]:\n",
    "    print(line)"
   ]
  },
  {
   "cell_type": "code",
   "execution_count": 48,
   "metadata": {
    "scrolled": true
   },
   "outputs": [
    {
     "name": "stdout",
     "output_type": "stream",
     "text": [
      "HW Q2: print the content of encoder_input_data[0]\n",
      "[42, 14, 34, 17]\n"
     ]
    }
   ],
   "source": [
    "print(\"HW Q2: print the content of encoder_input_data[0]\")\n",
    "print(text_data.encoder_input_data[0])"
   ]
  },
  {
   "cell_type": "code",
   "execution_count": 55,
   "metadata": {},
   "outputs": [
    {
     "name": "stdout",
     "output_type": "stream",
     "text": [
      "HW Q3: use text_data.input_idx2word to translate encoder_input_data[0] back to english words\n",
      "['they', 'do', 'not', '!']\n"
     ]
    }
   ],
   "source": [
    "print(\"HW Q3: use text_data.input_idx2word to translate encoder_input_data[0] back to english words\")\n",
    "hw3_decoder = []\n",
    "for item in text_data.encoder_input_data[0]:\n",
    "    hw3_decoder.append(text_data.input_idx2word.get(item))\n",
    "print(hw3_decoder)"
   ]
  },
  {
   "cell_type": "code",
   "execution_count": 57,
   "metadata": {},
   "outputs": [],
   "source": [
    "text_data.save()"
   ]
  },
  {
   "cell_type": "code",
   "execution_count": 58,
   "metadata": {},
   "outputs": [],
   "source": [
    "model = build_model(text_data)"
   ]
  },
  {
   "cell_type": "code",
   "execution_count": null,
   "metadata": {},
   "outputs": [],
   "source": [
    "print('HW4: Explain the model architecture in your own words')\n",
    "print('Part 1 of the model is the encoding, this multi-layer part produced a fixed length encoding of the text_data.')\n",
    "print('The input here is the ')\n",
    "print('Part 2 of the model is the decoding, this multi-layer part produces the prediction for the output sequence.')\n",
    "print('The  input ')\n",
    "print('Part 3 is tying the model together')"
   ]
  },
  {
   "cell_type": "code",
   "execution_count": null,
   "metadata": {},
   "outputs": [],
   "source": [
    "print('HW5: How does the encoder condition the decoder? What are the inputs and outputs to the decoder?')\n",
    "print('')"
   ]
  },
  {
   "cell_type": "code",
   "execution_count": 59,
   "metadata": {},
   "outputs": [],
   "source": [
    "X_train, X_test, y_train, y_test = train_test_split(text_data.encoder_input_data, text_data.target_texts, test_size=0.2, random_state=42)\n",
    "\n",
    "train_gen = generate_batch(X_train, y_train, text_data)\n",
    "test_gen = generate_batch(X_test, y_test, text_data)\n",
    "\n",
    "BATCH_SIZE=128\n",
    "train_num_batches = len(X_train) // BATCH_SIZE\n",
    "test_num_batches = len(X_test) // BATCH_SIZE"
   ]
  },
  {
   "cell_type": "code",
   "execution_count": 60,
   "metadata": {},
   "outputs": [],
   "source": [
    "TENSORBOARD = 'TensorBoard/'\n",
    "WEIGHT_FILE_PATH = 'model/word-weights.h5'\n",
    "checkpoint = ModelCheckpoint(filepath=WEIGHT_FILE_PATH, save_best_only=True)\n",
    "tbCallBack = TensorBoard(log_dir=TENSORBOARD, histogram_freq=0, write_graph=True, write_images=True)"
   ]
  },
  {
   "cell_type": "code",
   "execution_count": 61,
   "metadata": {},
   "outputs": [
    {
     "name": "stdout",
     "output_type": "stream",
     "text": [
      "Epoch 1/100\n",
      "1902/1902 [==============================] - 399s 210ms/step - loss: 1.3222 - val_loss: 1.2407\n"
     ]
    },
    {
     "name": "stderr",
     "output_type": "stream",
     "text": [
      "C:\\dev\\advanced_neural_networks\\adv_env\\lib\\site-packages\\keras\\engine\\network.py:872: UserWarning: Layer decoder_lstm was passed non-serializable keyword arguments: {'initial_state': [<tf.Tensor 'encoder_lstm/while/Exit_3:0' shape=(?, 256) dtype=float32>, <tf.Tensor 'encoder_lstm/while/Exit_4:0' shape=(?, 256) dtype=float32>]}. They will not be included in the serialized model (and thus will be missing at deserialization time).\n",
      "  '. They will not be included '\n"
     ]
    },
    {
     "name": "stdout",
     "output_type": "stream",
     "text": [
      "Epoch 2/100\n",
      "1902/1902 [==============================] - 386s 203ms/step - loss: 1.2172 - val_loss: 1.2115\n",
      "Epoch 3/100\n",
      "1902/1902 [==============================] - 386s 203ms/step - loss: 1.1962 - val_loss: 1.1987\n",
      "Epoch 4/100\n",
      "1902/1902 [==============================] - 385s 203ms/step - loss: 1.1840 - val_loss: 1.1907\n",
      "Epoch 5/100\n",
      "1902/1902 [==============================] - 379s 199ms/step - loss: 1.1753 - val_loss: 1.1859\n",
      "Epoch 6/100\n",
      "1902/1902 [==============================] - 380s 200ms/step - loss: 1.1682 - val_loss: 1.1824\n",
      "Epoch 7/100\n",
      "1902/1902 [==============================] - 384s 202ms/step - loss: 1.1623 - val_loss: 1.1802\n",
      "Epoch 8/100\n",
      "1902/1902 [==============================] - 388s 204ms/step - loss: 1.1570 - val_loss: 1.1794\n",
      "Epoch 9/100\n",
      "1902/1902 [==============================] - 389s 204ms/step - loss: 1.1521 - val_loss: 1.1792\n",
      "Epoch 10/100\n",
      "1902/1902 [==============================] - 385s 203ms/step - loss: 1.1474 - val_loss: 1.1798\n",
      "Epoch 11/100\n",
      "1902/1902 [==============================] - 386s 203ms/step - loss: 1.1428 - val_loss: 1.1807\n",
      "Epoch 12/100\n",
      "1902/1902 [==============================] - 384s 202ms/step - loss: 1.1384 - val_loss: 1.1829\n",
      "Epoch 13/100\n",
      "1902/1902 [==============================] - 387s 204ms/step - loss: 1.1341 - val_loss: 1.1847\n",
      "Epoch 14/100\n",
      "1902/1902 [==============================] - 387s 204ms/step - loss: 1.1298 - val_loss: 1.1869\n",
      "Epoch 15/100\n",
      "1902/1902 [==============================] - 392s 206ms/step - loss: 1.1256 - val_loss: 1.1903\n",
      "Epoch 16/100\n",
      "1902/1902 [==============================] - 386s 203ms/step - loss: 1.1217 - val_loss: 1.1923\n",
      "Epoch 17/100\n",
      "1902/1902 [==============================] - 385s 202ms/step - loss: 1.1176 - val_loss: 1.1950\n",
      "Epoch 18/100\n",
      "1902/1902 [==============================] - 386s 203ms/step - loss: 1.1139 - val_loss: 1.1983\n",
      "Epoch 19/100\n",
      "1902/1902 [==============================] - 387s 203ms/step - loss: 1.1104 - val_loss: 1.2014\n",
      "Epoch 20/100\n",
      "1902/1902 [==============================] - 394s 207ms/step - loss: 1.1070 - val_loss: 1.2048\n",
      "Epoch 21/100\n",
      "1902/1902 [==============================] - 388s 204ms/step - loss: 1.1038 - val_loss: 1.2094\n",
      "Epoch 22/100\n",
      "1902/1902 [==============================] - 389s 205ms/step - loss: 1.1008 - val_loss: 1.2120\n",
      "Epoch 23/100\n",
      "1902/1902 [==============================] - 392s 206ms/step - loss: 1.0980 - val_loss: 1.2154\n",
      "Epoch 24/100\n",
      "1902/1902 [==============================] - 387s 204ms/step - loss: 1.0953 - val_loss: 1.2191\n",
      "Epoch 25/100\n",
      "1902/1902 [==============================] - 396s 208ms/step - loss: 1.0930 - val_loss: 1.2213\n",
      "Epoch 26/100\n",
      "1902/1902 [==============================] - 386s 203ms/step - loss: 1.0908 - val_loss: 1.2245\n",
      "Epoch 27/100\n",
      "1902/1902 [==============================] - 390s 205ms/step - loss: 1.0889 - val_loss: 1.2283\n",
      "Epoch 28/100\n",
      "1902/1902 [==============================] - 391s 205ms/step - loss: 1.0868 - val_loss: 1.2305 loss: 1.086\n",
      "Epoch 29/100\n",
      "1902/1902 [==============================] - 397s 208ms/step - loss: 1.0850 - val_loss: 1.2315\n",
      "Epoch 30/100\n",
      "1902/1902 [==============================] - 393s 207ms/step - loss: 1.0834 - val_loss: 1.2339\n",
      "Epoch 31/100\n",
      "1902/1902 [==============================] - 392s 206ms/step - loss: 1.0819 - val_loss: 1.2372\n",
      "Epoch 32/100\n",
      "1902/1902 [==============================] - 391s 206ms/step - loss: 1.0805 - val_loss: 1.2377\n",
      "Epoch 33/100\n",
      "1902/1902 [==============================] - 406s 214ms/step - loss: 1.0793 - val_loss: 1.2394\n",
      "Epoch 34/100\n",
      "1902/1902 [==============================] - 403s 212ms/step - loss: 1.0783 - val_loss: 1.2415\n",
      "Epoch 35/100\n",
      "1902/1902 [==============================] - 407s 214ms/step - loss: 1.0769 - val_loss: 1.2419\n",
      "Epoch 36/100\n",
      "1902/1902 [==============================] - 400s 210ms/step - loss: 1.0759 - val_loss: 1.2429\n",
      "Epoch 37/100\n",
      "1902/1902 [==============================] - 383s 201ms/step - loss: 1.0748 - val_loss: 1.2449\n",
      "Epoch 38/100\n",
      "1902/1902 [==============================] - 382s 201ms/step - loss: 1.0742 - val_loss: 1.2439\n",
      "Epoch 39/100\n",
      "1902/1902 [==============================] - 381s 200ms/step - loss: 1.0731 - val_loss: 1.2459\n",
      "Epoch 40/100\n",
      "1902/1902 [==============================] - 432s 227ms/step - loss: 1.0722 - val_loss: 1.2444\n",
      "Epoch 41/100\n",
      "1902/1902 [==============================] - 443s 233ms/step - loss: 1.0717 - val_loss: 1.2453\n",
      "Epoch 42/100\n",
      "1902/1902 [==============================] - 404s 213ms/step - loss: 1.0709 - val_loss: 1.2461\n",
      "Epoch 43/100\n",
      "1902/1902 [==============================] - 411s 216ms/step - loss: 1.0698 - val_loss: 1.2483\n",
      "Epoch 44/100\n",
      "1902/1902 [==============================] - 396s 208ms/step - loss: 1.0695 - val_loss: 1.2481\n",
      "Epoch 45/100\n",
      "1902/1902 [==============================] - 413s 217ms/step - loss: 1.0687 - val_loss: 1.2477\n",
      "Epoch 46/100\n",
      "1902/1902 [==============================] - 418s 220ms/step - loss: 1.0681 - val_loss: 1.2497\n",
      "Epoch 47/100\n",
      "1902/1902 [==============================] - 396s 208ms/step - loss: 1.0672 - val_loss: 1.2493\n",
      "Epoch 48/100\n",
      "1902/1902 [==============================] - 396s 208ms/step - loss: 1.0668 - val_loss: 1.2488\n",
      "Epoch 49/100\n",
      "1902/1902 [==============================] - 391s 206ms/step - loss: 1.0658 - val_loss: 1.2503\n",
      "Epoch 50/100\n",
      "1902/1902 [==============================] - 395s 208ms/step - loss: 1.0655 - val_loss: 1.2505\n",
      "Epoch 51/100\n",
      "1902/1902 [==============================] - 406s 213ms/step - loss: 1.0651 - val_loss: 1.2517\n",
      "Epoch 52/100\n",
      "1902/1902 [==============================] - 404s 213ms/step - loss: 1.0646 - val_loss: 1.2518\n",
      "Epoch 53/100\n",
      "1902/1902 [==============================] - 403s 212ms/step - loss: 1.0639 - val_loss: 1.2505\n",
      "Epoch 54/100\n",
      "1902/1902 [==============================] - 401s 211ms/step - loss: 1.0638 - val_loss: 1.2517\n",
      "Epoch 55/100\n",
      "1902/1902 [==============================] - 409s 215ms/step - loss: 1.0632 - val_loss: 1.2522\n",
      "Epoch 56/100\n",
      "1902/1902 [==============================] - 403s 212ms/step - loss: 1.0625 - val_loss: 1.2543\n",
      "Epoch 57/100\n",
      "1902/1902 [==============================] - 401s 211ms/step - loss: 1.0620 - val_loss: 1.2539\n",
      "Epoch 58/100\n",
      "1902/1902 [==============================] - 401s 211ms/step - loss: 1.0620 - val_loss: 1.2534\n",
      "Epoch 59/100\n",
      "1902/1902 [==============================] - 404s 212ms/step - loss: 1.0614 - val_loss: 1.2540\n",
      "Epoch 60/100\n",
      "1902/1902 [==============================] - 398s 209ms/step - loss: 1.0609 - val_loss: 1.2546\n",
      "Epoch 61/100\n",
      "1902/1902 [==============================] - 404s 213ms/step - loss: 1.0603 - val_loss: 1.2559\n",
      "Epoch 62/100\n",
      "1902/1902 [==============================] - 406s 213ms/step - loss: 1.0601 - val_loss: 1.2544\n",
      "Epoch 63/100\n",
      "1902/1902 [==============================] - 405s 213ms/step - loss: 1.0597 - val_loss: 1.2558\n",
      "Epoch 64/100\n",
      "1902/1902 [==============================] - 406s 213ms/step - loss: 1.0595 - val_loss: 1.2555\n",
      "Epoch 65/100\n",
      "1902/1902 [==============================] - 423s 222ms/step - loss: 1.0589 - val_loss: 1.2580\n",
      "Epoch 66/100\n",
      "1902/1902 [==============================] - 402s 211ms/step - loss: 1.0582 - val_loss: 1.2569\n",
      "Epoch 67/100\n",
      "1902/1902 [==============================] - 389s 205ms/step - loss: 1.0583 - val_loss: 1.2562\n",
      "Epoch 68/100\n",
      "1902/1902 [==============================] - 388s 204ms/step - loss: 1.0578 - val_loss: 1.2580\n",
      "Epoch 69/100\n",
      "1902/1902 [==============================] - 388s 204ms/step - loss: 1.0575 - val_loss: 1.2598\n",
      "Epoch 70/100\n",
      "1902/1902 [==============================] - 388s 204ms/step - loss: 1.0572 - val_loss: 1.2603\n",
      "Epoch 71/100\n",
      "1902/1902 [==============================] - 388s 204ms/step - loss: 1.0568 - val_loss: 1.2592\n",
      "Epoch 72/100\n",
      "1902/1902 [==============================] - 395s 208ms/step - loss: 1.0565 - val_loss: 1.2593\n",
      "Epoch 73/100\n",
      "1902/1902 [==============================] - 388s 204ms/step - loss: 1.0563 - val_loss: 1.2609\n",
      "Epoch 74/100\n",
      "1902/1902 [==============================] - 389s 204ms/step - loss: 1.0560 - val_loss: 1.2609\n",
      "Epoch 75/100\n",
      "1902/1902 [==============================] - 388s 204ms/step - loss: 1.0557 - val_loss: 1.2625\n",
      "Epoch 76/100\n",
      "1902/1902 [==============================] - 387s 203ms/step - loss: 1.0553 - val_loss: 1.2614\n",
      "Epoch 77/100\n"
     ]
    },
    {
     "name": "stdout",
     "output_type": "stream",
     "text": [
      "1902/1902 [==============================] - 389s 204ms/step - loss: 1.0550 - val_loss: 1.2621\n",
      "Epoch 78/100\n",
      "1902/1902 [==============================] - 388s 204ms/step - loss: 1.0547 - val_loss: 1.2617\n",
      "Epoch 79/100\n",
      "1902/1902 [==============================] - 388s 204ms/step - loss: 1.0545 - val_loss: 1.2636\n",
      "Epoch 80/100\n",
      "1902/1902 [==============================] - 388s 204ms/step - loss: 1.0542 - val_loss: 1.2632\n",
      "Epoch 81/100\n",
      "1902/1902 [==============================] - 392s 206ms/step - loss: 1.0541 - val_loss: 1.2636\n",
      "Epoch 82/100\n",
      "1902/1902 [==============================] - 393s 207ms/step - loss: 1.0537 - val_loss: 1.2639\n",
      "Epoch 83/100\n",
      "1902/1902 [==============================] - 388s 204ms/step - loss: 1.0535 - val_loss: 1.2629\n",
      "Epoch 84/100\n",
      "1902/1902 [==============================] - 387s 204ms/step - loss: 1.0531 - val_loss: 1.2630\n",
      "Epoch 85/100\n",
      "1902/1902 [==============================] - 388s 204ms/step - loss: 1.0530 - val_loss: 1.2647\n",
      "Epoch 86/100\n",
      "1902/1902 [==============================] - 390s 205ms/step - loss: 1.0531 - val_loss: 1.2651\n",
      "Epoch 87/100\n",
      "1902/1902 [==============================] - 389s 204ms/step - loss: 1.0527 - val_loss: 1.2653\n",
      "Epoch 88/100\n",
      "1902/1902 [==============================] - 388s 204ms/step - loss: 1.0528 - val_loss: 1.2643\n",
      "Epoch 89/100\n",
      "1902/1902 [==============================] - 387s 204ms/step - loss: 1.0520 - val_loss: 1.2647\n",
      "Epoch 90/100\n",
      "1902/1902 [==============================] - 390s 205ms/step - loss: 1.0517 - val_loss: 1.2636\n",
      "Epoch 91/100\n",
      "1902/1902 [==============================] - 390s 205ms/step - loss: 1.0517 - val_loss: 1.2657\n",
      "Epoch 92/100\n",
      "1902/1902 [==============================] - 389s 204ms/step - loss: 1.0516 - val_loss: 1.2664\n",
      "Epoch 93/100\n",
      "1902/1902 [==============================] - 389s 204ms/step - loss: 1.0514 - val_loss: 1.2649\n",
      "Epoch 94/100\n",
      "1902/1902 [==============================] - 388s 204ms/step - loss: 1.0510 - val_loss: 1.2656\n",
      "Epoch 95/100\n",
      "1902/1902 [==============================] - 388s 204ms/step - loss: 1.0513 - val_loss: 1.2667\n",
      "Epoch 96/100\n",
      "1902/1902 [==============================] - 389s 204ms/step - loss: 1.0505 - val_loss: 1.2670\n",
      "Epoch 97/100\n",
      "1902/1902 [==============================] - 388s 204ms/step - loss: 1.0504 - val_loss: 1.2660\n",
      "Epoch 98/100\n",
      "1902/1902 [==============================] - 388s 204ms/step - loss: 1.0502 - val_loss: 1.2674\n",
      "Epoch 99/100\n",
      "1902/1902 [==============================] - 387s 204ms/step - loss: 1.0500 - val_loss: 1.2682\n",
      "Epoch 100/100\n",
      "1902/1902 [==============================] - 393s 207ms/step - loss: 1.0499 - val_loss: 1.2664\n"
     ]
    },
    {
     "data": {
      "text/plain": [
       "<keras.callbacks.History at 0x1d1203e01d0>"
      ]
     },
     "execution_count": 61,
     "metadata": {},
     "output_type": "execute_result"
    }
   ],
   "source": [
    "model.fit_generator(generator=train_gen,\n",
    "                    steps_per_epoch=train_num_batches,\n",
    "                    epochs=100,\n",
    "                    verbose=1,\n",
    "                    validation_data=test_gen,\n",
    "                    validation_steps=test_num_batches,\n",
    "                    callbacks=[checkpoint, tbCallBack ])"
   ]
  },
  {
   "cell_type": "code",
   "execution_count": 62,
   "metadata": {},
   "outputs": [],
   "source": [
    "WEIGHT_FILE_PATH = 'model/weights.h5'\n",
    "model.save_weights(WEIGHT_FILE_PATH)"
   ]
  },
  {
   "cell_type": "code",
   "execution_count": null,
   "metadata": {},
   "outputs": [],
   "source": []
  }
 ],
 "metadata": {
  "kernelspec": {
   "display_name": "adv_env",
   "language": "python",
   "name": "adv_env"
  },
  "language_info": {
   "codemirror_mode": {
    "name": "ipython",
    "version": 3
   },
   "file_extension": ".py",
   "mimetype": "text/x-python",
   "name": "python",
   "nbconvert_exporter": "python",
   "pygments_lexer": "ipython3",
   "version": "3.6.6"
  }
 },
 "nbformat": 4,
 "nbformat_minor": 2
}
