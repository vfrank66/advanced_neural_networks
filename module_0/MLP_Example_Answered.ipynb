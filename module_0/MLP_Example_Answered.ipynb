{
 "cells": [
  {
   "cell_type": "code",
   "execution_count": 22,
   "metadata": {},
   "outputs": [],
   "source": [
    "# These are the packages I'll be using.\n",
    "import numpy as np\n",
    "import matplotlib.pyplot as plt\n",
    "import sklearn\n",
    "import sklearn.datasets\n",
    "from sklearn.datasets import make_moons\n",
    "from sklearn.linear_model import LogisticRegression\n",
    "from sklearn.metrics import accuracy_score\n",
    "#from utils import make_meshgrid, plot_contours\n",
    "from math import e\n",
    "import pandas as pd\n",
    "%matplotlib inline\n",
    "np.random.seed(42) "
   ]
  },
  {
   "cell_type": "code",
   "execution_count": 23,
   "metadata": {},
   "outputs": [
    {
     "data": {
      "image/png": "[encoded data removed]",
      "text/plain": [
       "<Figure size 432x288 with 1 Axes>"
      ]
     },
     "metadata": {
      "needs_background": "light"
     },
     "output_type": "display_data"
    }
   ],
   "source": [
    "moons = make_moons(n_samples=200, noise=.2)  # you can experiment with more or less noise here if you'd like\n",
    "X, y = moons\n",
    "\n",
    "# plotting this dataset, positive examples will be red.\n",
    "colors=['r' if item == 1 else 'b' for item in y]\n",
    "plt.scatter(X[:,0], X[:,1], c=colors, cmap=plt.cm.coolwarm)\n",
    "plt.show()"
   ]
  },
  {
   "cell_type": "code",
   "execution_count": 24,
   "metadata": {},
   "outputs": [
    {
     "data": {
      "text/plain": [
       "array([[-1.10689665e+00,  4.22928095e-02],\n",
       "       [ 9.56799641e-01,  4.56750492e-01],\n",
       "       [ 7.33516277e-01,  5.84617437e-01],\n",
       "       [ 1.11140659e+00, -3.09213987e-01],\n",
       "       [ 2.09081764e-01,  6.56679495e-04]])"
      ]
     },
     "execution_count": 24,
     "metadata": {},
     "output_type": "execute_result"
    }
   ],
   "source": [
    "# Each row of the dataset has two featurs, x_1 and x_2.  Here are the first 5 rows.\n",
    "X[0:5,:]"
   ]
  },
  {
   "cell_type": "code",
   "execution_count": 25,
   "metadata": {},
   "outputs": [
    {
     "data": {
      "text/plain": [
       "array([0, 0, 0, 1, 1], dtype=int64)"
      ]
     },
     "execution_count": 25,
     "metadata": {},
     "output_type": "execute_result"
    }
   ],
   "source": [
    "# Each y can be either a 0 or 1.  Here are the first 5 Ys\n",
    "y[0:5]"
   ]
  },
  {
   "cell_type": "code",
   "execution_count": 26,
   "metadata": {},
   "outputs": [
    {
     "data": {
      "text/plain": [
       "LogisticRegression(C=1.0, class_weight=None, dual=False, fit_intercept=True,\n",
       "          intercept_scaling=1, max_iter=100, multi_class='ovr', n_jobs=1,\n",
       "          penalty='l2', random_state=None, solver='liblinear', tol=0.0001,\n",
       "          verbose=0, warm_start=False)"
      ]
     },
     "execution_count": 26,
     "metadata": {},
     "output_type": "execute_result"
    }
   ],
   "source": [
    "lr = LogisticRegression()\n",
    "lr.fit(X,y)"
   ]
  },
  {
   "cell_type": "code",
   "execution_count": 27,
   "metadata": {},
   "outputs": [
    {
     "name": "stdout",
     "output_type": "stream",
     "text": [
      "Logit Accuracy: 85.5%\n"
     ]
    },
    {
     "ename": "NameError",
     "evalue": "name 'make_meshgrid' is not defined",
     "output_type": "error",
     "traceback": [
      "\u001b[1;31m---------------------------------------------------------------------------\u001b[0m",
      "\u001b[1;31mNameError\u001b[0m                                 Traceback (most recent call last)",
      "\u001b[1;32m<ipython-input-27-cc10d470a8e2>\u001b[0m in \u001b[0;36m<module>\u001b[1;34m()\u001b[0m\n\u001b[0;32m      1\u001b[0m \u001b[0mprint\u001b[0m\u001b[1;33m(\u001b[0m\u001b[1;34m\"Logit Accuracy: {0}%\"\u001b[0m\u001b[1;33m.\u001b[0m\u001b[0mformat\u001b[0m\u001b[1;33m(\u001b[0m\u001b[0maccuracy_score\u001b[0m\u001b[1;33m(\u001b[0m\u001b[0my\u001b[0m\u001b[1;33m,\u001b[0m \u001b[0mlr\u001b[0m\u001b[1;33m.\u001b[0m\u001b[0mpredict\u001b[0m\u001b[1;33m(\u001b[0m\u001b[0mX\u001b[0m\u001b[1;33m)\u001b[0m\u001b[1;33m)\u001b[0m \u001b[1;33m*\u001b[0m \u001b[1;36m100\u001b[0m\u001b[1;33m)\u001b[0m\u001b[1;33m)\u001b[0m\u001b[1;33m\u001b[0m\u001b[0m\n\u001b[1;32m----> 2\u001b[1;33m \u001b[0mxx\u001b[0m\u001b[1;33m,\u001b[0m\u001b[0myy\u001b[0m \u001b[1;33m=\u001b[0m \u001b[0mmake_meshgrid\u001b[0m\u001b[1;33m(\u001b[0m\u001b[0mX\u001b[0m\u001b[1;33m,\u001b[0m\u001b[0my\u001b[0m\u001b[1;33m)\u001b[0m\u001b[1;33m\u001b[0m\u001b[0m\n\u001b[0m\u001b[0;32m      3\u001b[0m \u001b[0mplot_contours\u001b[0m\u001b[1;33m(\u001b[0m\u001b[0mlr\u001b[0m\u001b[1;33m,\u001b[0m \u001b[0mxx\u001b[0m\u001b[1;33m,\u001b[0m \u001b[0myy\u001b[0m\u001b[1;33m,\u001b[0m \u001b[0mcmap\u001b[0m\u001b[1;33m=\u001b[0m\u001b[0mplt\u001b[0m\u001b[1;33m.\u001b[0m\u001b[0mcm\u001b[0m\u001b[1;33m.\u001b[0m\u001b[0mcoolwarm\u001b[0m\u001b[1;33m,\u001b[0m \u001b[0malpha\u001b[0m\u001b[1;33m=\u001b[0m\u001b[1;36m0.8\u001b[0m\u001b[1;33m)\u001b[0m\u001b[1;33m\u001b[0m\u001b[0m\n\u001b[0;32m      4\u001b[0m \u001b[0mplt\u001b[0m\u001b[1;33m.\u001b[0m\u001b[0mscatter\u001b[0m\u001b[1;33m(\u001b[0m\u001b[0mX\u001b[0m\u001b[1;33m[\u001b[0m\u001b[1;33m:\u001b[0m\u001b[1;33m,\u001b[0m\u001b[1;36m0\u001b[0m\u001b[1;33m]\u001b[0m\u001b[1;33m,\u001b[0m \u001b[0mX\u001b[0m\u001b[1;33m[\u001b[0m\u001b[1;33m:\u001b[0m\u001b[1;33m,\u001b[0m\u001b[1;36m1\u001b[0m\u001b[1;33m]\u001b[0m\u001b[1;33m,\u001b[0m \u001b[0mc\u001b[0m\u001b[1;33m=\u001b[0m\u001b[0mcolors\u001b[0m\u001b[1;33m,\u001b[0m \u001b[0mcmap\u001b[0m\u001b[1;33m=\u001b[0m\u001b[0mplt\u001b[0m\u001b[1;33m.\u001b[0m\u001b[0mcm\u001b[0m\u001b[1;33m.\u001b[0m\u001b[0mcoolwarm\u001b[0m\u001b[1;33m)\u001b[0m\u001b[1;33m\u001b[0m\u001b[0m\n",
      "\u001b[1;31mNameError\u001b[0m: name 'make_meshgrid' is not defined"
     ]
    }
   ],
   "source": [
    "print(\"Logit Accuracy: {0}%\".format(accuracy_score(y, lr.predict(X)) * 100))\n",
    "xx,yy = make_meshgrid(X,y)\n",
    "plot_contours(lr, xx, yy, cmap=plt.cm.coolwarm, alpha=0.8)\n",
    "plt.scatter(X[:,0], X[:,1], c=colors, cmap=plt.cm.coolwarm)\n"
   ]
  },
  {
   "cell_type": "code",
   "execution_count": 28,
   "metadata": {},
   "outputs": [],
   "source": [
    "def  sigmoid(z):\n",
    "         return 1/(1+e**-z)"
   ]
  },
  {
   "cell_type": "code",
   "execution_count": 29,
   "metadata": {},
   "outputs": [],
   "source": [
    "def initialize_parameters(num_input_features, num_hidden_layer_neurons, num_output_neurons):    \n",
    "    W1 = np.random.randn(num_hidden_layer_neurons, num_input_features) * 0.01\n",
    "    b1 = np.zeros((num_hidden_layer_neurons, 1))\n",
    "    W2 = np.random.randn(num_output_neurons, num_hidden_layer_neurons) * 0.01\n",
    "    b2 = np.zeros((num_output_neurons, 1))\n",
    "    \n",
    "    parameters = {\"W1\": W1,\n",
    "                  \"b1\": b1,\n",
    "                  \"W2\": W2,\n",
    "                  \"b2\": b2}\n",
    "    return parameters"
   ]
  },
  {
   "cell_type": "code",
   "execution_count": 30,
   "metadata": {},
   "outputs": [],
   "source": [
    "def forward_propagation(X, parameters, i=0):\n",
    "    W1 = parameters['W1']\n",
    "    b1 = parameters['b1']\n",
    "    W2 = parameters['W2']\n",
    "    b2 = parameters['b2']\n",
    "    Z1 = np.dot(W1, X) + b1\n",
    "    A1 = np.tanh(Z1)\n",
    "    Z2 = np.dot(W2, A1) + b2\n",
    "    A2 = sigmoid(Z2)\n",
    "    assert(A2.shape == (1, X.shape[1]))\n",
    "    \n",
    "    cache = {\"Z1\": Z1,\n",
    "             \"A1\": A1,\n",
    "             \"Z2\": Z2,\n",
    "             \"A2\": A2}\n",
    "    if i == 1:\n",
    "        print(\"Homework Q1:\")\n",
    "        print('Matrix shape W1:' + str(W1.shape))\n",
    "        print('Matrix shape b1:' + str(b1.shape))\n",
    "        print('Matrix shape W2:' + str(W2.shape))\n",
    "        print('Matrix shape b2:' + str(b2.shape))\n",
    "        print('Matrix shape Z1:' + str(Z1.shape))\n",
    "        print('Matrix shape A1:' + str(A1.shape))\n",
    "        print('Matrix shape Z2:' + str(Z2.shape))\n",
    "        print('Matrix shape A2:' + str(A2.shape))\n",
    "    \n",
    "    return A2, cache"
   ]
  },
  {
   "cell_type": "code",
   "execution_count": 31,
   "metadata": {},
   "outputs": [],
   "source": [
    "def compute_cost(y_hat, y, parameters):\n",
    "    m = y.shape[1] # number of examples\n",
    "    logprobs = np.dot(np.log(y_hat), y.T) + np.dot(np.log(1-y_hat), (1 - y).T)\n",
    "    cost = -1/m * np.sum(logprobs)    \n",
    "    cost = np.squeeze(cost)\n",
    "    return cost"
   ]
  },
  {
   "cell_type": "code",
   "execution_count": 36,
   "metadata": {},
   "outputs": [
    {
     "ename": "SyntaxError",
     "evalue": "invalid syntax (<ipython-input-36-f86ef71a8f67>, line 24)",
     "output_type": "error",
     "traceback": [
      "\u001b[1;36m  File \u001b[1;32m\"<ipython-input-36-f86ef71a8f67>\"\u001b[1;36m, line \u001b[1;32m24\u001b[0m\n\u001b[1;33m    calc_all_updated_params  = dZ2.shape[0] + dW2.shape[0] + db2.shape[0] + dZ1.shape[0] + dW1.shape[0] +db1.shape[0])\u001b[0m\n\u001b[1;37m                                                                                                                     ^\u001b[0m\n\u001b[1;31mSyntaxError\u001b[0m\u001b[1;31m:\u001b[0m invalid syntax\n"
     ]
    }
   ],
   "source": [
    "def backward_propagation(parameters, cache, X, y, i):\n",
    "    m = X.shape[1]\n",
    "    W1 = parameters['W1']\n",
    "    W2 = parameters['W2']\n",
    "    A1 = cache['A1']\n",
    "    A2 = cache['A2']\n",
    "\n",
    "    dZ2= A2 - y\n",
    "    dW2 = 1/m * np.dot(dZ2, A1.T)\n",
    "    db2 = 1/m * np.sum(dZ2, axis=1, keepdims=True)\n",
    "    dZ1 = np.dot(W2.T, dZ2)  * (1 - np.power(A1, 2))\n",
    "    dW1 =  1/m * np.dot(dZ1,X.T)\n",
    "    db1 = 1/m * np.sum(dZ1, axis=1, keepdims=True)\n",
    "    \n",
    "    if i == 1:\n",
    "        print(\"***Homework Q2:\")\n",
    "        print('Matrix shape dZ2:' + str(dZ2.shape))\n",
    "        print('Matrix shape dW2:' + str(dW2.shape))\n",
    "        print('Matrix shape db2:' + str(db2.shape))\n",
    "        print('Matrix shape dZ1:' + str(dZ1.shape))\n",
    "        print('Matrix shape dW1:' + str(dW1.shape))\n",
    "        print('Matrix shape db1:' + str(db1.shape))\n",
    "        print(\"***Homework Q3: A2 is output, X is input. In order to adjust the each neurons weights' error during backprop w.r.t. the output error. A neuron's gradient from output back to input is used to adjust weights of the respective neuron.\")\n",
    "        calc_all_updated_params  = dZ2.shape[0] + dW2.shape[0] + db2.shape[0] + dZ1.shape[0] + dW1.shape[0] +db1.shape[0])\n",
    "        print(\"***HW Q4: \" + str(calc_all_updated_params))\n",
    "    grads = {\"dW1\": dW1,\n",
    "             \"db1\": db1,\n",
    "             \"dW2\": dW2,\n",
    "             \"db2\": db2}\n",
    "    \n",
    "    return grads"
   ]
  },
  {
   "cell_type": "code",
   "execution_count": 37,
   "metadata": {},
   "outputs": [],
   "source": [
    "def update_parameters(parameters, grads, learning_rate = 1.2):\n",
    "    W1 = parameters['W1']\n",
    "    b1 = parameters['b1']\n",
    "    W2 = parameters['W2']\n",
    "    b2 = parameters['b2']\n",
    "    \n",
    "    dW1 = grads['dW1']\n",
    "    db1 = grads['db1']\n",
    "    dW2 = grads['dW2']\n",
    "    db2 = grads['db2']\n",
    "\n",
    "    W1 = W1 - learning_rate * dW1\n",
    "    b1 = b1 - learning_rate * db1\n",
    "    W2 = W2 - learning_rate * dW2\n",
    "    b2 = b2 - learning_rate * db2\n",
    "    \n",
    "    parameters = {\"W1\": W1,\n",
    "                  \"b1\": b1,\n",
    "                  \"W2\": W2,\n",
    "                  \"b2\": b2}\n",
    "    \n",
    "    return parameters"
   ]
  },
  {
   "cell_type": "code",
   "execution_count": 38,
   "metadata": {},
   "outputs": [],
   "source": [
    "def train_network(X, y, hidden_layer_size, num_iterations = 10000, print_cost=False):\n",
    "    y=y.reshape(-1,1).T\n",
    "    X=X.T\n",
    "    parameters = initialize_parameters(X.shape[0], hidden_layer_size, 1)\n",
    "    costs=[]\n",
    "    paramCount = 0\n",
    "    for index in parameters:\n",
    "        print(str(index))\n",
    "        print(str(parameters[index].shape))\n",
    "    \n",
    "    for i in range(0, num_iterations):\n",
    "        y_hat, cache = forward_propagation(X, parameters, i)\n",
    "        cost = compute_cost(y_hat, y, parameters)\n",
    "        costs.append(cost) # keep a log of costs, so we can visualize it later\n",
    "        grads = backward_propagation(parameters, cache, X, y, i)\n",
    "        parameters = update_parameters(parameters, grads)\n",
    "\n",
    "        if print_cost and i % 1000 == 0:\n",
    "            print (\"Cost after iteration %i: %f\" %(i, cost))\n",
    "    \n",
    "    return costs, parameters"
   ]
  },
  {
   "cell_type": "code",
   "execution_count": 39,
   "metadata": {},
   "outputs": [
    {
     "name": "stdout",
     "output_type": "stream",
     "text": [
      "W1\n",
      "(10, 2)\n",
      "b1\n",
      "(10, 1)\n",
      "W2\n",
      "(1, 10)\n",
      "b2\n",
      "(1, 1)\n",
      "Cost after iteration 0: 0.693122\n",
      "Homework Q1:\n",
      "Matrix shape W1:(10, 2)\n",
      "Matrix shape b1:(10, 1)\n",
      "Matrix shape W2:(1, 10)\n",
      "Matrix shape b2:(1, 1)\n",
      "Matrix shape Z1:(10, 200)\n",
      "Matrix shape A1:(10, 200)\n",
      "Matrix shape Z2:(1, 200)\n",
      "Matrix shape A2:(1, 200)\n",
      "***Homework Q2:\n",
      "Matrix shape dZ2:(1, 200)\n",
      "Matrix shape dW2:(1, 10)\n",
      "Matrix shape db2:(1, 1)\n",
      "Matrix shape dZ1:(10, 200)\n",
      "Matrix shape dW1:(10, 2)\n",
      "Matrix shape db1:(10, 1)\n",
      "***Homework Q3: A2 is output, X is input. In order to adjust the each neurons weights' error during backprop w.r.t. the output error. A neuron's gradient from output back to input is used to adjust weights of the respective neuron.\n",
      "33\n",
      "***HW Q4: 33\n",
      "Cost after iteration 1000: 0.090147\n",
      "Cost after iteration 2000: 0.054494\n",
      "Cost after iteration 3000: 0.048330\n",
      "Cost after iteration 4000: 0.044705\n",
      "Cost after iteration 5000: 0.040879\n",
      "Cost after iteration 6000: 0.036772\n",
      "Cost after iteration 7000: 0.030752\n",
      "Cost after iteration 8000: 0.027011\n",
      "Cost after iteration 9000: 0.024219\n",
      "Cost after iteration 10000: 0.022063\n",
      "Cost after iteration 11000: 0.020398\n",
      "Cost after iteration 12000: 0.019093\n",
      "Cost after iteration 13000: 0.018051\n",
      "Cost after iteration 14000: 0.017200\n",
      "Cost after iteration 15000: 0.016495\n",
      "Cost after iteration 16000: 0.015903\n",
      "Cost after iteration 17000: 0.015400\n",
      "Cost after iteration 18000: 0.014970\n",
      "Cost after iteration 19000: 0.014599\n",
      "Cost after iteration 20000: 0.014276\n",
      "Cost after iteration 21000: 0.013992\n",
      "Cost after iteration 22000: 0.013738\n",
      "Cost after iteration 23000: 0.013507\n",
      "Cost after iteration 24000: 0.013288\n",
      "Cost after iteration 25000: 0.013068\n",
      "Cost after iteration 26000: 0.012854\n",
      "Cost after iteration 27000: 0.012668\n",
      "Cost after iteration 28000: 0.012510\n",
      "Cost after iteration 29000: 0.012374\n"
     ]
    }
   ],
   "source": [
    "costs, parameters = train_network(X,y,10, num_iterations=30000, print_cost=True)"
   ]
  },
  {
   "cell_type": "code",
   "execution_count": 40,
   "metadata": {},
   "outputs": [
    {
     "data": {
      "image/png": "[encoded data removed]",
      "text/plain": [
       "<Figure size 432x288 with 1 Axes>"
      ]
     },
     "metadata": {
      "needs_background": "light"
     },
     "output_type": "display_data"
    }
   ],
   "source": [
    "#Examining the cost function at each epoch will show us how well our network is learning.\n",
    "plt.title(\"Cost Function / Epoch\")\n",
    "ax=pd.Series(costs).plot()\n",
    "ax.set_xlabel(\"# of Epochs\")\n",
    "ax.set_ylabel(\"Loss\")\n",
    "plt.show()"
   ]
  },
  {
   "cell_type": "code",
   "execution_count": 41,
   "metadata": {},
   "outputs": [],
   "source": [
    "def predict(parameters, X):\n",
    "    X = X.T\n",
    "    y_hat, cache = forward_propagation(X, parameters)\n",
    "    predictions = (y_hat > 0.5)    \n",
    "    return predictions.T"
   ]
  },
  {
   "cell_type": "code",
   "execution_count": 42,
   "metadata": {},
   "outputs": [],
   "source": [
    "y_hat = predict(parameters, X)"
   ]
  },
  {
   "cell_type": "code",
   "execution_count": 43,
   "metadata": {},
   "outputs": [
    {
     "name": "stdout",
     "output_type": "stream",
     "text": [
      "MLP Accuracy: 99.5%\n"
     ]
    },
    {
     "ename": "NameError",
     "evalue": "name 'make_meshgrid' is not defined",
     "output_type": "error",
     "traceback": [
      "\u001b[1;31m---------------------------------------------------------------------------\u001b[0m",
      "\u001b[1;31mNameError\u001b[0m                                 Traceback (most recent call last)",
      "\u001b[1;32m<ipython-input-43-016e26babe39>\u001b[0m in \u001b[0;36m<module>\u001b[1;34m()\u001b[0m\n\u001b[0;32m      1\u001b[0m \u001b[0mprint\u001b[0m\u001b[1;33m(\u001b[0m\u001b[1;34m\"MLP Accuracy: {0}%\"\u001b[0m\u001b[1;33m.\u001b[0m\u001b[0mformat\u001b[0m\u001b[1;33m(\u001b[0m\u001b[0maccuracy_score\u001b[0m\u001b[1;33m(\u001b[0m\u001b[0my\u001b[0m\u001b[1;33m,\u001b[0m \u001b[0my_hat\u001b[0m\u001b[1;33m)\u001b[0m \u001b[1;33m*\u001b[0m \u001b[1;36m100\u001b[0m\u001b[1;33m)\u001b[0m\u001b[1;33m)\u001b[0m\u001b[1;33m\u001b[0m\u001b[0m\n\u001b[1;32m----> 2\u001b[1;33m \u001b[0mxx\u001b[0m\u001b[1;33m,\u001b[0m\u001b[0myy\u001b[0m \u001b[1;33m=\u001b[0m \u001b[0mmake_meshgrid\u001b[0m\u001b[1;33m(\u001b[0m\u001b[0mX\u001b[0m\u001b[1;33m,\u001b[0m\u001b[0my\u001b[0m\u001b[1;33m)\u001b[0m\u001b[1;33m\u001b[0m\u001b[0m\n\u001b[0m\u001b[0;32m      3\u001b[0m \u001b[1;33m\u001b[0m\u001b[0m\n\u001b[0;32m      4\u001b[0m \u001b[0mZ\u001b[0m \u001b[1;33m=\u001b[0m \u001b[0mpredict\u001b[0m\u001b[1;33m(\u001b[0m\u001b[0mparameters\u001b[0m\u001b[1;33m,\u001b[0m \u001b[0mnp\u001b[0m\u001b[1;33m.\u001b[0m\u001b[0mc_\u001b[0m\u001b[1;33m[\u001b[0m\u001b[0mxx\u001b[0m\u001b[1;33m.\u001b[0m\u001b[0mravel\u001b[0m\u001b[1;33m(\u001b[0m\u001b[1;33m)\u001b[0m\u001b[1;33m,\u001b[0m \u001b[0myy\u001b[0m\u001b[1;33m.\u001b[0m\u001b[0mravel\u001b[0m\u001b[1;33m(\u001b[0m\u001b[1;33m)\u001b[0m\u001b[1;33m]\u001b[0m\u001b[1;33m)\u001b[0m\u001b[1;33m\u001b[0m\u001b[0m\n\u001b[0;32m      5\u001b[0m \u001b[0mZ\u001b[0m \u001b[1;33m=\u001b[0m \u001b[0mZ\u001b[0m\u001b[1;33m.\u001b[0m\u001b[0mreshape\u001b[0m\u001b[1;33m(\u001b[0m\u001b[0mxx\u001b[0m\u001b[1;33m.\u001b[0m\u001b[0mshape\u001b[0m\u001b[1;33m)\u001b[0m\u001b[1;33m\u001b[0m\u001b[0m\n",
      "\u001b[1;31mNameError\u001b[0m: name 'make_meshgrid' is not defined"
     ]
    }
   ],
   "source": [
    "print(\"MLP Accuracy: {0}%\".format(accuracy_score(y, y_hat) * 100))\n",
    "xx,yy = make_meshgrid(X,y)\n",
    "\n",
    "Z = predict(parameters, np.c_[xx.ravel(), yy.ravel()])\n",
    "Z = Z.reshape(xx.shape)\n",
    "out = plt.contourf(xx, yy, Z,cmap=plt.cm.coolwarm)\n",
    "plt.scatter(X[:,0], X[:,1], c=colors, cmap=plt.cm.coolwarm)\n",
    "plt.show()"
   ]
  }
 ],
 "metadata": {
  "kernelspec": {
   "display_name": "ch2_v2",
   "language": "python",
   "name": "ch2_v2"
  },
  "language_info": {
   "codemirror_mode": {
    "name": "ipython",
    "version": 3
   },
   "file_extension": ".py",
   "mimetype": "text/x-python",
   "name": "python",
   "nbconvert_exporter": "python",
   "pygments_lexer": "ipython3",
   "version": "3.6.2"
  }
 },
 "nbformat": 4,
 "nbformat_minor": 2
}
