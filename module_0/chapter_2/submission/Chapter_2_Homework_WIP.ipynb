{
 "cells": [
  {
   "cell_type": "code",
   "execution_count": 1,
   "metadata": {},
   "outputs": [
    {
     "name": "stderr",
     "output_type": "stream",
     "text": [
      "c:\\dev\\advanced_neural_networks\\env\\lib\\site-packages\\sklearn\\cross_validation.py:41: DeprecationWarning: This module was deprecated in version 0.18 in favor of the model_selection module into which all the refactored classes and functions are moved. Also note that the interface of the new CV iterators are different from that of this module. This module will be removed in 0.20.\n",
      "  \"This module will be removed in 0.20.\", DeprecationWarning)\n",
      "Using TensorFlow backend.\n"
     ]
    }
   ],
   "source": [
    "from numpy.random import seed\n",
    "seed(42)\n",
    "from tensorflow import set_random_seed\n",
    "import tensorflow as tf\n",
    "set_random_seed(42)\n",
    "import pandas as pd\n",
    "from sklearn.cross_validation import train_test_split\n",
    "from sklearn.preprocessing import StandardScaler\n",
    "from keras.models import Model\n",
    "from keras.layers import Input, Dense\n",
    "from sklearn.metrics import mean_absolute_error, mean_squared_error, mean_squared_log_error\n",
    "import seaborn as sns\n",
    "from matplotlib import pyplot as plt"
   ]
  },
  {
   "cell_type": "code",
   "execution_count": 2,
   "metadata": {},
   "outputs": [],
   "source": [
    "import tensorflow as tf \n",
    "sess = tf.Session(config=tf.ConfigProto(log_device_placement=True))"
   ]
  },
  {
   "cell_type": "code",
   "execution_count": 3,
   "metadata": {},
   "outputs": [],
   "source": [
    "def load_data():\n",
    "    TRAIN_DATA = \"./ch2_train.csv\"\n",
    "    df = pd.read_csv(TRAIN_DATA)\n",
    "    y = df.iloc[:, 10]\n",
    "    X = df.iloc[:, 0:10]\n",
    "    print(y[0:5])\n",
    "    print(X[0:5])\n",
    "    X_train, X_test, y_train, y_test = train_test_split(X,y, test_size = 0.2)\n",
    "    X_val, X_test, y_val, y_test = train_test_split(X,y, test_size = 0.5)\n",
    "    return X_train, y_train, X_val, y_val, X_test, y_test"
   ]
  },
  {
   "cell_type": "code",
   "execution_count": 4,
   "metadata": {},
   "outputs": [],
   "source": [
    "# COMPLETE THIS FUNCTION\n",
    "\n",
    "def build_network(input_features=None):\n",
    "    # first we specify an input layer, with a shape == features\n",
    "    inputs = Input(shape=(input_features,), name=\"input\")\n",
    "    \n",
    "    # One or more layers should go here !!!!\n",
    "    x = Dense(32, activation='relu', name=\"hidden1\")(inputs)\n",
    "    x = Dense(32, activation='relu', name=\"hidden2\")(x)\n",
    "    #x = Dense(32, activation='relu', name=\"hidden3\")(x)\n",
    "    # for regression we will use a single neuron with linear (no) activation\n",
    "    prediction = Dense(1, activation='linear', name=\"final\")(x)\n",
    "\n",
    "    model = Model(inputs=inputs, outputs=prediction)\n",
    "    model.compile(optimizer='adam', loss='mean_squared_error', metrics=['mae','mse','mape','cosine','acc'])\n",
    "    return model"
   ]
  },
  {
   "cell_type": "code",
   "execution_count": 5,
   "metadata": {},
   "outputs": [
    {
     "name": "stdout",
     "output_type": "stream",
     "text": [
      "0   -1.492607\n",
      "1    0.001870\n",
      "2   -3.026610\n",
      "3    2.582999\n",
      "4   -1.375630\n",
      "Name: y, dtype: float64\n",
      "         x0        x1        x2        x3        x4        x5        x6  \\\n",
      "0  0.002180  0.009120 -0.013605 -0.008808  0.001073 -0.000740  0.002386   \n",
      "1  0.004854 -0.003313 -0.001952  0.002670 -0.006725 -0.002017 -0.002849   \n",
      "2 -0.003369 -0.006110 -0.006696 -0.022039 -0.000381  0.003571 -0.007350   \n",
      "3  0.004071  0.006069  0.001937  0.006065 -0.007948  0.000772  0.012258   \n",
      "4 -0.003275  0.005618  0.003749 -0.011370  0.000889 -0.001856  0.000228   \n",
      "\n",
      "         x7        x8        x9  \n",
      "0 -0.005520 -0.014143  0.001899  \n",
      "1  0.000822  0.008339  0.002317  \n",
      "2 -0.000669 -0.016077 -0.006384  \n",
      "3  0.008331  0.017416  0.002310  \n",
      "4 -0.007770 -0.016849  0.000354  \n"
     ]
    }
   ],
   "source": [
    "X_train, y_train, X_val, y_val, X_test, y_test = load_data()"
   ]
  },
  {
   "cell_type": "code",
   "execution_count": 6,
   "metadata": {
    "scrolled": true
   },
   "outputs": [
    {
     "name": "stdout",
     "output_type": "stream",
     "text": [
      "Shape X_train:(3200, 10)\n",
      "Shape X_val:(2000, 10)\n",
      "Shape X_test :(2000, 10)\n"
     ]
    }
   ],
   "source": [
    "print(\"Shape X_train:\" + str(X_train.shape))\n",
    "print(\"Shape X_val:\" + str(X_val.shape))\n",
    "print(\"Shape X_test :\" + str(X_test.shape))"
   ]
  },
  {
   "cell_type": "code",
   "execution_count": 7,
   "metadata": {},
   "outputs": [],
   "source": [
    "input_features = X_train.shape[1]\n",
    "model = build_network(input_features=input_features)"
   ]
  },
  {
   "cell_type": "code",
   "execution_count": 8,
   "metadata": {
    "scrolled": true
   },
   "outputs": [
    {
     "name": "stdout",
     "output_type": "stream",
     "text": [
      "_________________________________________________________________\n",
      "Layer (type)                 Output Shape              Param #   \n",
      "=================================================================\n",
      "input (InputLayer)           (None, 10)                0         \n",
      "_________________________________________________________________\n",
      "hidden1 (Dense)              (None, 32)                352       \n",
      "_________________________________________________________________\n",
      "hidden2 (Dense)              (None, 32)                1056      \n",
      "_________________________________________________________________\n",
      "final (Dense)                (None, 1)                 33        \n",
      "=================================================================\n",
      "Total params: 1,441\n",
      "Trainable params: 1,441\n",
      "Non-trainable params: 0\n",
      "_________________________________________________________________\n"
     ]
    }
   ],
   "source": [
    "model.summary()"
   ]
  },
  {
   "cell_type": "code",
   "execution_count": 9,
   "metadata": {},
   "outputs": [
    {
     "name": "stdout",
     "output_type": "stream",
     "text": [
      "Trainable Params: 1441\n"
     ]
    }
   ],
   "source": [
    "print(\"Trainable Params: \" + str(1441))"
   ]
  },
  {
   "cell_type": "code",
   "execution_count": null,
   "metadata": {
    "scrolled": true
   },
   "outputs": [
    {
     "name": "stdout",
     "output_type": "stream",
     "text": [
      "Train on 3200 samples, validate on 2000 samples\n",
      "Epoch 1/200\n",
      "3200/3200 [==============================] - 3s 856us/step - loss: 1.2167 - mean_absolute_error: 0.8783 - mean_squared_error: 1.2167 - mean_absolute_percentage_error: 107.3645 - cosine_proximity: -0.4563 - acc: 0.0000e+00 - val_loss: 0.6322 - val_mean_absolute_error: 0.6336 - val_mean_squared_error: 0.6322 - val_mean_absolute_percentage_error: 94.6254 - val_cosine_proximity: -0.8100 - val_acc: 0.0000e+00\n",
      "Epoch 2/200\n",
      "3200/3200 [==============================] - 1s 448us/step - loss: 0.1948 - mean_absolute_error: 0.3126 - mean_squared_error: 0.1948 - mean_absolute_percentage_error: 91.8754 - cosine_proximity: -0.8463 - acc: 0.0000e+00 - val_loss: 0.0310 - val_mean_absolute_error: 0.1376 - val_mean_squared_error: 0.0310 - val_mean_absolute_percentage_error: 52.3112 - val_cosine_proximity: -0.9100 - val_acc: 0.0000e+00\n",
      "Epoch 3/200\n",
      "3200/3200 [==============================] - 1s 457us/step - loss: 0.0132 - mean_absolute_error: 0.0794 - mean_squared_error: 0.0132 - mean_absolute_percentage_error: 29.7967 - cosine_proximity: -0.9488 - acc: 0.0000e+00 - val_loss: 0.0029 - val_mean_absolute_error: 0.0377 - val_mean_squared_error: 0.0029 - val_mean_absolute_percentage_error: 16.4264 - val_cosine_proximity: -0.9810 - val_acc: 0.0000e+00\n",
      "Epoch 4/200\n",
      "3200/3200 [==============================] - 2s 504us/step - loss: 0.0018 - mean_absolute_error: 0.0231 - mean_squared_error: 0.0018 - mean_absolute_percentage_error: 9.8869 - cosine_proximity: -0.9862 - acc: 0.0000e+00 - val_loss: 8.4626e-04 - val_mean_absolute_error: 0.0186 - val_mean_squared_error: 8.4626e-04 - val_mean_absolute_percentage_error: 8.7781 - val_cosine_proximity: -0.9900 - val_acc: 0.0000e+00\n",
      "Epoch 5/200\n",
      "3200/3200 [==============================] - 1s 453us/step - loss: 5.6803e-04 - mean_absolute_error: 0.0083 - mean_squared_error: 5.6803e-04 - mean_absolute_percentage_error: 3.4217 - cosine_proximity: -0.9962 - acc: 0.0000e+00 - val_loss: 2.8149e-04 - val_mean_absolute_error: 0.0067 - val_mean_squared_error: 2.8149e-04 - val_mean_absolute_percentage_error: 2.3321 - val_cosine_proximity: -0.9970 - val_acc: 0.0000e+00\n",
      "Epoch 6/200\n",
      "3200/3200 [==============================] - 2s 491us/step - loss: 2.7829e-04 - mean_absolute_error: 0.0045 - mean_squared_error: 2.7829e-04 - mean_absolute_percentage_error: 1.4942 - cosine_proximity: -0.9994 - acc: 0.0000e+00 - val_loss: 1.3827e-04 - val_mean_absolute_error: 0.0021 - val_mean_squared_error: 1.3827e-04 - val_mean_absolute_percentage_error: 0.7321 - val_cosine_proximity: -1.0000 - val_acc: 0.0000e+00\n",
      "Epoch 7/200\n",
      "3200/3200 [==============================] - 1s 446us/step - loss: 1.5589e-04 - mean_absolute_error: 0.0034 - mean_squared_error: 1.5589e-04 - mean_absolute_percentage_error: 1.1828 - cosine_proximity: -0.9994 - acc: 0.0000e+00 - val_loss: 8.5694e-05 - val_mean_absolute_error: 9.3750e-04 - val_mean_squared_error: 8.5694e-05 - val_mean_absolute_percentage_error: 0.2570 - val_cosine_proximity: -1.0000 - val_acc: 0.0000e+00\n",
      "Epoch 8/200\n",
      "3200/3200 [==============================] - 1s 430us/step - loss: 8.9727e-05 - mean_absolute_error: 0.0023 - mean_squared_error: 8.9727e-05 - mean_absolute_percentage_error: 1.0171 - cosine_proximity: -1.0000 - acc: 0.0000e+00 - val_loss: 5.8751e-05 - val_mean_absolute_error: 0.0018 - val_mean_squared_error: 5.8751e-05 - val_mean_absolute_percentage_error: 0.2564 - val_cosine_proximity: -1.0000 - val_acc: 0.0000e+00\n",
      "Epoch 9/200\n",
      "3200/3200 [==============================] - 1s 409us/step - loss: 5.3695e-05 - mean_absolute_error: 0.0019 - mean_squared_error: 5.3695e-05 - mean_absolute_percentage_error: 0.6642 - cosine_proximity: -1.0000 - acc: 0.0000e+00 - val_loss: 3.6965e-05 - val_mean_absolute_error: 5.8600e-04 - val_mean_squared_error: 3.6965e-05 - val_mean_absolute_percentage_error: 0.1851 - val_cosine_proximity: -1.0000 - val_acc: 0.0000e+00\n",
      "Epoch 10/200\n",
      "3200/3200 [==============================] - 1s 415us/step - loss: 3.6702e-05 - mean_absolute_error: 0.0017 - mean_squared_error: 3.6702e-05 - mean_absolute_percentage_error: 0.7548 - cosine_proximity: -0.9994 - acc: 0.0000e+00 - val_loss: 3.0226e-05 - val_mean_absolute_error: 0.0022 - val_mean_squared_error: 3.0226e-05 - val_mean_absolute_percentage_error: 0.9125 - val_cosine_proximity: -1.0000 - val_acc: 0.0000e+00\n",
      "Epoch 11/200\n",
      "3200/3200 [==============================] - 1s 429us/step - loss: 2.6594e-05 - mean_absolute_error: 0.0019 - mean_squared_error: 2.6594e-05 - mean_absolute_percentage_error: 0.7685 - cosine_proximity: -0.9987 - acc: 0.0000e+00 - val_loss: 1.7182e-05 - val_mean_absolute_error: 2.3750e-04 - val_mean_squared_error: 1.7182e-05 - val_mean_absolute_percentage_error: 0.0459 - val_cosine_proximity: -1.0000 - val_acc: 0.0000e+00\n",
      "Epoch 12/200\n",
      "3200/3200 [==============================] - 1s 421us/step - loss: 1.5060e-05 - mean_absolute_error: 0.0011 - mean_squared_error: 1.5060e-05 - mean_absolute_percentage_error: 0.4249 - cosine_proximity: -1.0000 - acc: 0.0000e+00 - val_loss: 1.8130e-04 - val_mean_absolute_error: 0.0131 - val_mean_squared_error: 1.8130e-04 - val_mean_absolute_percentage_error: 5.7654 - val_cosine_proximity: -0.9910 - val_acc: 0.0000e+00\n",
      "Epoch 13/200\n",
      "3200/3200 [==============================] - 1s 409us/step - loss: 1.6407e-05 - mean_absolute_error: 0.0019 - mean_squared_error: 1.6407e-05 - mean_absolute_percentage_error: 0.9689 - cosine_proximity: -0.9994 - acc: 0.0000e+00 - val_loss: 6.9628e-06 - val_mean_absolute_error: 2.2124e-04 - val_mean_squared_error: 6.9628e-06 - val_mean_absolute_percentage_error: 0.0645 - val_cosine_proximity: -1.0000 - val_acc: 0.0000e+00\n",
      "Epoch 14/200\n",
      "3200/3200 [==============================] - 1s 456us/step - loss: 8.4657e-06 - mean_absolute_error: 0.0011 - mean_squared_error: 8.4657e-06 - mean_absolute_percentage_error: 0.5719 - cosine_proximity: -1.0000 - acc: 0.0000e+00 - val_loss: 5.1749e-06 - val_mean_absolute_error: 8.4800e-04 - val_mean_squared_error: 5.1749e-06 - val_mean_absolute_percentage_error: 0.3557 - val_cosine_proximity: -1.0000 - val_acc: 0.0000e+00\n",
      "Epoch 15/200\n",
      "3200/3200 [==============================] - 2s 483us/step - loss: 7.0799e-06 - mean_absolute_error: 0.0011 - mean_squared_error: 7.0799e-06 - mean_absolute_percentage_error: 0.4336 - cosine_proximity: -1.0000 - acc: 0.0000e+00 - val_loss: 1.3118e-05 - val_mean_absolute_error: 0.0027 - val_mean_squared_error: 1.3118e-05 - val_mean_absolute_percentage_error: 0.9577 - val_cosine_proximity: -0.9980 - val_acc: 0.0000e+00\n",
      "Epoch 16/200\n",
      "3200/3200 [==============================] - 2s 612us/step - loss: 7.1701e-06 - mean_absolute_error: 0.0014 - mean_squared_error: 7.1701e-06 - mean_absolute_percentage_error: 0.7098 - cosine_proximity: -0.9981 - acc: 0.0000e+00 - val_loss: 1.7629e-06 - val_mean_absolute_error: 1.6593e-04 - val_mean_squared_error: 1.7629e-06 - val_mean_absolute_percentage_error: 0.0489 - val_cosine_proximity: -1.0000 - val_acc: 0.0000e+00\n",
      "Epoch 17/200\n",
      "3200/3200 [==============================] - 2s 564us/step - loss: 6.9265e-06 - mean_absolute_error: 0.0014 - mean_squared_error: 6.9265e-06 - mean_absolute_percentage_error: 0.6667 - cosine_proximity: -0.9994 - acc: 0.0000e+00 - val_loss: 1.6498e-06 - val_mean_absolute_error: 6.4510e-04 - val_mean_squared_error: 1.6498e-06 - val_mean_absolute_percentage_error: 0.2926 - val_cosine_proximity: -1.0000 - val_acc: 0.0000e+00\n",
      "Epoch 18/200\n",
      "3200/3200 [==============================] - 2s 504us/step - loss: 6.0607e-06 - mean_absolute_error: 0.0014 - mean_squared_error: 6.0607e-06 - mean_absolute_percentage_error: 0.7599 - cosine_proximity: -0.9981 - acc: 0.0000e+00 - val_loss: 7.2725e-07 - val_mean_absolute_error: 8.9128e-05 - val_mean_squared_error: 7.2725e-07 - val_mean_absolute_percentage_error: 0.0267 - val_cosine_proximity: -1.0000 - val_acc: 0.0000e+00\n",
      "Epoch 19/200\n",
      "3200/3200 [==============================] - 2s 491us/step - loss: 1.0766e-05 - mean_absolute_error: 0.0022 - mean_squared_error: 1.0766e-05 - mean_absolute_percentage_error: 0.9438 - cosine_proximity: -0.9994 - acc: 0.0000e+00 - val_loss: 6.8124e-06 - val_mean_absolute_error: 0.0025 - val_mean_squared_error: 6.8124e-06 - val_mean_absolute_percentage_error: 1.1032 - val_cosine_proximity: -1.0000 - val_acc: 0.0000e+00\n"
     ]
    },
    {
     "name": "stdout",
     "output_type": "stream",
     "text": [
      "Epoch 20/200\n",
      "3200/3200 [==============================] - 2s 526us/step - loss: 6.7324e-06 - mean_absolute_error: 0.0015 - mean_squared_error: 6.7324e-06 - mean_absolute_percentage_error: 0.6706 - cosine_proximity: -1.0000 - acc: 0.0000e+00 - val_loss: 8.1612e-06 - val_mean_absolute_error: 0.0023 - val_mean_squared_error: 8.1612e-06 - val_mean_absolute_percentage_error: 1.0894 - val_cosine_proximity: -0.9980 - val_acc: 0.0000e+00\n",
      "Epoch 21/200\n",
      "3200/3200 [==============================] - 2s 585us/step - loss: 6.1197e-05 - mean_absolute_error: 0.0053 - mean_squared_error: 6.1197e-05 - mean_absolute_percentage_error: 2.2267 - cosine_proximity: -0.9981 - acc: 0.0000e+00 - val_loss: 1.5753e-06 - val_mean_absolute_error: 0.0010 - val_mean_squared_error: 1.5753e-06 - val_mean_absolute_percentage_error: 0.4632 - val_cosine_proximity: -1.0000 - val_acc: 0.0000e+00\n",
      "Epoch 22/200\n",
      "3200/3200 [==============================] - 1s 437us/step - loss: 8.2861e-06 - mean_absolute_error: 0.0022 - mean_squared_error: 8.2861e-06 - mean_absolute_percentage_error: 0.9706 - cosine_proximity: -0.9994 - acc: 0.0000e+00 - val_loss: 1.8290e-05 - val_mean_absolute_error: 0.0040 - val_mean_squared_error: 1.8290e-05 - val_mean_absolute_percentage_error: 1.7621 - val_cosine_proximity: -0.9970 - val_acc: 0.0000e+00\n",
      "Epoch 23/200\n",
      "3200/3200 [==============================] - 1s 440us/step - loss: 3.1560e-05 - mean_absolute_error: 0.0044 - mean_squared_error: 3.1560e-05 - mean_absolute_percentage_error: 2.3318 - cosine_proximity: -0.9962 - acc: 0.0000e+00 - val_loss: 4.5828e-05 - val_mean_absolute_error: 0.0066 - val_mean_squared_error: 4.5828e-05 - val_mean_absolute_percentage_error: 2.9530 - val_cosine_proximity: -0.9980 - val_acc: 0.0000e+00\n",
      "Epoch 24/200\n",
      "3200/3200 [==============================] - 1s 453us/step - loss: 9.9744e-05 - mean_absolute_error: 0.0076 - mean_squared_error: 9.9744e-05 - mean_absolute_percentage_error: 4.2734 - cosine_proximity: -0.9956 - acc: 0.0000e+00 - val_loss: 5.6048e-07 - val_mean_absolute_error: 5.5616e-04 - val_mean_squared_error: 5.6048e-07 - val_mean_absolute_percentage_error: 0.2502 - val_cosine_proximity: -1.0000 - val_acc: 0.0000e+00\n",
      "Epoch 25/200\n",
      "3200/3200 [==============================] - 1s 459us/step - loss: 1.3743e-06 - mean_absolute_error: 7.6066e-04 - mean_squared_error: 1.3743e-06 - mean_absolute_percentage_error: 0.3380 - cosine_proximity: -1.0000 - acc: 0.0000e+00 - val_loss: 1.8479e-07 - val_mean_absolute_error: 1.7748e-04 - val_mean_squared_error: 1.8479e-07 - val_mean_absolute_percentage_error: 0.0778 - val_cosine_proximity: -1.0000 - val_acc: 0.0000e+00\n",
      "Epoch 26/200\n",
      "3200/3200 [==============================] - 1s 460us/step - loss: 1.3280e-05 - mean_absolute_error: 0.0022 - mean_squared_error: 1.3280e-05 - mean_absolute_percentage_error: 0.8786 - cosine_proximity: -0.9987 - acc: 0.0000e+00 - val_loss: 1.0230e-04 - val_mean_absolute_error: 0.0099 - val_mean_squared_error: 1.0230e-04 - val_mean_absolute_percentage_error: 4.5317 - val_cosine_proximity: -0.9930 - val_acc: 0.0000e+00\n",
      "Epoch 27/200\n",
      "3200/3200 [==============================] - 1s 448us/step - loss: 9.4408e-05 - mean_absolute_error: 0.0061 - mean_squared_error: 9.4408e-05 - mean_absolute_percentage_error: 2.6403 - cosine_proximity: -0.9969 - acc: 0.0000e+00 - val_loss: 2.7833e-06 - val_mean_absolute_error: 0.0015 - val_mean_squared_error: 2.7833e-06 - val_mean_absolute_percentage_error: 0.6633 - val_cosine_proximity: -1.0000 - val_acc: 0.0000e+00\n",
      "Epoch 28/200\n",
      "3200/3200 [==============================] - 1s 463us/step - loss: 1.5892e-06 - mean_absolute_error: 7.7392e-04 - mean_squared_error: 1.5892e-06 - mean_absolute_percentage_error: 0.3420 - cosine_proximity: -0.9994 - acc: 0.0000e+00 - val_loss: 2.8220e-06 - val_mean_absolute_error: 0.0016 - val_mean_squared_error: 2.8220e-06 - val_mean_absolute_percentage_error: 0.7162 - val_cosine_proximity: -1.0000 - val_acc: 0.0000e+00\n",
      "Epoch 29/200\n",
      "3200/3200 [==============================] - 1s 424us/step - loss: 3.3963e-05 - mean_absolute_error: 0.0033 - mean_squared_error: 3.3963e-05 - mean_absolute_percentage_error: 1.4040 - cosine_proximity: -0.9987 - acc: 0.0000e+00 - val_loss: 5.0471e-05 - val_mean_absolute_error: 0.0058 - val_mean_squared_error: 5.0471e-05 - val_mean_absolute_percentage_error: 2.4591 - val_cosine_proximity: -0.9990 - val_acc: 0.0000e+00\n",
      "Epoch 30/200\n",
      "3200/3200 [==============================] - 1s 422us/step - loss: 5.8351e-05 - mean_absolute_error: 0.0053 - mean_squared_error: 5.8351e-05 - mean_absolute_percentage_error: 2.8103 - cosine_proximity: -0.9975 - acc: 0.0000e+00 - val_loss: 2.3360e-06 - val_mean_absolute_error: 0.0012 - val_mean_squared_error: 2.3360e-06 - val_mean_absolute_percentage_error: 0.5201 - val_cosine_proximity: -0.9990 - val_acc: 0.0000e+00\n",
      "Epoch 31/200\n",
      "3200/3200 [==============================] - 1s 439us/step - loss: 1.3577e-05 - mean_absolute_error: 0.0029 - mean_squared_error: 1.3577e-05 - mean_absolute_percentage_error: 1.3325 - cosine_proximity: -0.9975 - acc: 0.0000e+00 - val_loss: 1.1050e-05 - val_mean_absolute_error: 0.0030 - val_mean_squared_error: 1.1050e-05 - val_mean_absolute_percentage_error: 1.3200 - val_cosine_proximity: -0.9990 - val_acc: 0.0000e+00\n",
      "Epoch 32/200\n",
      "3200/3200 [==============================] - 1s 420us/step - loss: 4.5221e-05 - mean_absolute_error: 0.0045 - mean_squared_error: 4.5221e-05 - mean_absolute_percentage_error: 1.9980 - cosine_proximity: -0.9950 - acc: 0.0000e+00 - val_loss: 6.0276e-05 - val_mean_absolute_error: 0.0069 - val_mean_squared_error: 6.0276e-05 - val_mean_absolute_percentage_error: 3.2210 - val_cosine_proximity: -0.9990 - val_acc: 0.0000e+00\n",
      "Epoch 33/200\n",
      "3200/3200 [==============================] - 1s 416us/step - loss: 2.3776e-05 - mean_absolute_error: 0.0033 - mean_squared_error: 2.3776e-05 - mean_absolute_percentage_error: 1.3639 - cosine_proximity: -0.9994 - acc: 0.0000e+00 - val_loss: 2.1539e-04 - val_mean_absolute_error: 0.0132 - val_mean_squared_error: 2.1539e-04 - val_mean_absolute_percentage_error: 5.6643 - val_cosine_proximity: -0.9940 - val_acc: 0.0000e+00\n",
      "Epoch 34/200\n",
      "3200/3200 [==============================] - 2s 603us/step - loss: 7.2868e-05 - mean_absolute_error: 0.0060 - mean_squared_error: 7.2868e-05 - mean_absolute_percentage_error: 4.0484 - cosine_proximity: -0.9969 - acc: 0.0000e+00 - val_loss: 2.0671e-05 - val_mean_absolute_error: 0.0043 - val_mean_squared_error: 2.0671e-05 - val_mean_absolute_percentage_error: 1.9519 - val_cosine_proximity: -1.0000 - val_acc: 0.0000e+00\n",
      "Epoch 35/200\n",
      "3200/3200 [==============================] - 2s 685us/step - loss: 1.6271e-06 - mean_absolute_error: 8.2463e-04 - mean_squared_error: 1.6271e-06 - mean_absolute_percentage_error: 0.4011 - cosine_proximity: -0.9994 - acc: 0.0000e+00 - val_loss: 1.5815e-06 - val_mean_absolute_error: 0.0012 - val_mean_squared_error: 1.5815e-06 - val_mean_absolute_percentage_error: 0.5483 - val_cosine_proximity: -1.0000 - val_acc: 0.0000e+00\n",
      "Epoch 36/200\n",
      "3200/3200 [==============================] - 2s 688us/step - loss: 1.0084e-04 - mean_absolute_error: 0.0058 - mean_squared_error: 1.0084e-04 - mean_absolute_percentage_error: 2.4787 - cosine_proximity: -0.9987 - acc: 0.0000e+00 - val_loss: 4.3151e-06 - val_mean_absolute_error: 0.0019 - val_mean_squared_error: 4.3151e-06 - val_mean_absolute_percentage_error: 0.8271 - val_cosine_proximity: -0.9990 - val_acc: 0.0000e+00\n",
      "Epoch 37/200\n",
      "3200/3200 [==============================] - 2s 671us/step - loss: 1.4040e-06 - mean_absolute_error: 8.9577e-04 - mean_squared_error: 1.4040e-06 - mean_absolute_percentage_error: 0.3991 - cosine_proximity: -1.0000 - acc: 0.0000e+00 - val_loss: 8.8632e-07 - val_mean_absolute_error: 7.5755e-04 - val_mean_squared_error: 8.8632e-07 - val_mean_absolute_percentage_error: 0.2938 - val_cosine_proximity: -1.0000 - val_acc: 0.0000e+00\n",
      "Epoch 38/200\n",
      "3200/3200 [==============================] - 2s 679us/step - loss: 2.8849e-05 - mean_absolute_error: 0.0032 - mean_squared_error: 2.8849e-05 - mean_absolute_percentage_error: 1.2443 - cosine_proximity: -0.9987 - acc: 0.0000e+00 - val_loss: 7.0735e-06 - val_mean_absolute_error: 0.0023 - val_mean_squared_error: 7.0735e-06 - val_mean_absolute_percentage_error: 1.0079 - val_cosine_proximity: -1.0000 - val_acc: 0.0000e+00\n"
     ]
    },
    {
     "name": "stdout",
     "output_type": "stream",
     "text": [
      "Epoch 39/200\n",
      "3200/3200 [==============================] - 2s 626us/step - loss: 1.5824e-05 - mean_absolute_error: 0.0024 - mean_squared_error: 1.5824e-05 - mean_absolute_percentage_error: 1.1454 - cosine_proximity: -0.9994 - acc: 0.0000e+00 - val_loss: 8.5650e-06 - val_mean_absolute_error: 0.0024 - val_mean_squared_error: 8.5650e-06 - val_mean_absolute_percentage_error: 1.1747 - val_cosine_proximity: -0.9970 - val_acc: 0.0000e+00\n",
      "Epoch 40/200\n",
      "3200/3200 [==============================] - 2s 617us/step - loss: 6.3204e-05 - mean_absolute_error: 0.0046 - mean_squared_error: 6.3204e-05 - mean_absolute_percentage_error: 1.9229 - cosine_proximity: -0.9975 - acc: 0.0000e+00 - val_loss: 1.3733e-06 - val_mean_absolute_error: 0.0011 - val_mean_squared_error: 1.3733e-06 - val_mean_absolute_percentage_error: 0.4863 - val_cosine_proximity: -1.0000 - val_acc: 0.0000e+00\n",
      "Epoch 41/200\n",
      "3200/3200 [==============================] - 2s 608us/step - loss: 6.7795e-06 - mean_absolute_error: 0.0019 - mean_squared_error: 6.7795e-06 - mean_absolute_percentage_error: 0.8933 - cosine_proximity: -0.9994 - acc: 0.0000e+00 - val_loss: 5.3184e-05 - val_mean_absolute_error: 0.0063 - val_mean_squared_error: 5.3184e-05 - val_mean_absolute_percentage_error: 2.6651 - val_cosine_proximity: -1.0000 - val_acc: 0.0000e+00\n",
      "Epoch 42/200\n",
      "3200/3200 [==============================] - 2s 669us/step - loss: 1.3843e-04 - mean_absolute_error: 0.0066 - mean_squared_error: 1.3843e-04 - mean_absolute_percentage_error: 3.2286 - cosine_proximity: -0.9962 - acc: 0.0000e+00 - val_loss: 2.3457e-07 - val_mean_absolute_error: 3.7425e-04 - val_mean_squared_error: 2.3457e-07 - val_mean_absolute_percentage_error: 0.1643 - val_cosine_proximity: -1.0000 - val_acc: 0.0000e+00\n",
      "Epoch 43/200\n",
      "3200/3200 [==============================] - 2s 727us/step - loss: 6.8263e-07 - mean_absolute_error: 4.5554e-04 - mean_squared_error: 6.8263e-07 - mean_absolute_percentage_error: 0.2109 - cosine_proximity: -1.0000 - acc: 0.0000e+00 - val_loss: 1.4336e-07 - val_mean_absolute_error: 2.9288e-04 - val_mean_squared_error: 1.4336e-07 - val_mean_absolute_percentage_error: 0.1215 - val_cosine_proximity: -1.0000 - val_acc: 0.0000e+00\n",
      "Epoch 44/200\n",
      "3200/3200 [==============================] - 2s 730us/step - loss: 1.2359e-06 - mean_absolute_error: 7.3462e-04 - mean_squared_error: 1.2359e-06 - mean_absolute_percentage_error: 0.2821 - cosine_proximity: -1.0000 - acc: 0.0000e+00 - val_loss: 1.8257e-05 - val_mean_absolute_error: 0.0042 - val_mean_squared_error: 1.8257e-05 - val_mean_absolute_percentage_error: 1.8787 - val_cosine_proximity: -1.0000 - val_acc: 0.0000e+00\n",
      "Epoch 45/200\n",
      "3200/3200 [==============================] - 3s 865us/step - loss: 2.4956e-05 - mean_absolute_error: 0.0037 - mean_squared_error: 2.4956e-05 - mean_absolute_percentage_error: 1.5920 - cosine_proximity: -0.9987 - acc: 0.0000e+00 - val_loss: 3.7365e-05 - val_mean_absolute_error: 0.0049 - val_mean_squared_error: 3.7365e-05 - val_mean_absolute_percentage_error: 2.2595 - val_cosine_proximity: -1.0000 - val_acc: 0.0000e+00\n",
      "Epoch 46/200\n",
      "3200/3200 [==============================] - 2s 656us/step - loss: 4.7591e-05 - mean_absolute_error: 0.0053 - mean_squared_error: 4.7591e-05 - mean_absolute_percentage_error: 3.1999 - cosine_proximity: -0.9931 - acc: 0.0000e+00 - val_loss: 2.2805e-06 - val_mean_absolute_error: 0.0013 - val_mean_squared_error: 2.2805e-06 - val_mean_absolute_percentage_error: 0.5276 - val_cosine_proximity: -1.0000 - val_acc: 0.0000e+00\n",
      "Epoch 47/200\n",
      "3200/3200 [==============================] - 2s 663us/step - loss: 1.5079e-05 - mean_absolute_error: 0.0031 - mean_squared_error: 1.5079e-05 - mean_absolute_percentage_error: 1.5515 - cosine_proximity: -0.9987 - acc: 0.0000e+00 - val_loss: 5.6922e-06 - val_mean_absolute_error: 0.0019 - val_mean_squared_error: 5.6922e-06 - val_mean_absolute_percentage_error: 0.7855 - val_cosine_proximity: -1.0000 - val_acc: 0.0000e+00\n",
      "Epoch 48/200\n",
      "3200/3200 [==============================] - 3s 799us/step - loss: 1.2072e-04 - mean_absolute_error: 0.0061 - mean_squared_error: 1.2072e-04 - mean_absolute_percentage_error: 2.6228 - cosine_proximity: -0.9962 - acc: 0.0000e+00 - val_loss: 9.3053e-08 - val_mean_absolute_error: 2.0993e-04 - val_mean_squared_error: 9.3053e-08 - val_mean_absolute_percentage_error: 0.0686 - val_cosine_proximity: -1.0000 - val_acc: 0.0000e+00\n",
      "Epoch 49/200\n",
      "3200/3200 [==============================] - 3s 988us/step - loss: 2.7502e-07 - mean_absolute_error: 3.6060e-04 - mean_squared_error: 2.7502e-07 - mean_absolute_percentage_error: 0.2124 - cosine_proximity: -0.9994 - acc: 0.0000e+00 - val_loss: 1.5828e-07 - val_mean_absolute_error: 3.5367e-04 - val_mean_squared_error: 1.5828e-07 - val_mean_absolute_percentage_error: 0.1642 - val_cosine_proximity: -1.0000 - val_acc: 0.0000e+00\n",
      "Epoch 50/200\n",
      "3200/3200 [==============================] - 3s 972us/step - loss: 3.2536e-06 - mean_absolute_error: 0.0013 - mean_squared_error: 3.2536e-06 - mean_absolute_percentage_error: 0.7227 - cosine_proximity: -0.9994 - acc: 0.0000e+00 - val_loss: 1.0414e-07 - val_mean_absolute_error: 2.5973e-04 - val_mean_squared_error: 1.0414e-07 - val_mean_absolute_percentage_error: 0.1124 - val_cosine_proximity: -1.0000 - val_acc: 0.0000e+00\n",
      "Epoch 51/200\n",
      "3200/3200 [==============================] - 3s 909us/step - loss: 6.4858e-05 - mean_absolute_error: 0.0060 - mean_squared_error: 6.4858e-05 - mean_absolute_percentage_error: 2.7254 - cosine_proximity: -0.9950 - acc: 0.0000e+00 - val_loss: 3.6780e-06 - val_mean_absolute_error: 0.0015 - val_mean_squared_error: 3.6780e-06 - val_mean_absolute_percentage_error: 0.5752 - val_cosine_proximity: -1.0000 - val_acc: 0.0000e+00\n",
      "Epoch 52/200\n",
      "3200/3200 [==============================] - 3s 792us/step - loss: 2.4972e-06 - mean_absolute_error: 0.0012 - mean_squared_error: 2.4972e-06 - mean_absolute_percentage_error: 0.4921 - cosine_proximity: -1.0000 - acc: 0.0000e+00 - val_loss: 1.8383e-05 - val_mean_absolute_error: 0.0041 - val_mean_squared_error: 1.8383e-05 - val_mean_absolute_percentage_error: 1.8091 - val_cosine_proximity: -0.9990 - val_acc: 0.0000e+00\n",
      "Epoch 53/200\n",
      "3200/3200 [==============================] - 2s 765us/step - loss: 9.9197e-05 - mean_absolute_error: 0.0062 - mean_squared_error: 9.9197e-05 - mean_absolute_percentage_error: 2.8657 - cosine_proximity: -0.9956 - acc: 0.0000e+00 - val_loss: 1.6873e-07 - val_mean_absolute_error: 3.1456e-04 - val_mean_squared_error: 1.6873e-07 - val_mean_absolute_percentage_error: 0.1210 - val_cosine_proximity: -1.0000 - val_acc: 0.0000e+00\n",
      "Epoch 54/200\n",
      "3200/3200 [==============================] - 3s 869us/step - loss: 3.9244e-07 - mean_absolute_error: 4.7170e-04 - mean_squared_error: 3.9244e-07 - mean_absolute_percentage_error: 0.2488 - cosine_proximity: -0.9994 - acc: 0.0000e+00 - val_loss: 7.4781e-08 - val_mean_absolute_error: 2.0270e-04 - val_mean_squared_error: 7.4781e-08 - val_mean_absolute_percentage_error: 0.0802 - val_cosine_proximity: -1.0000 - val_acc: 0.0000e+00\n",
      "Epoch 55/200\n",
      "3200/3200 [==============================] - 3s 866us/step - loss: 5.0687e-05 - mean_absolute_error: 0.0046 - mean_squared_error: 5.0687e-05 - mean_absolute_percentage_error: 1.9751 - cosine_proximity: -0.9981 - acc: 0.0000e+00 - val_loss: 8.2097e-06 - val_mean_absolute_error: 0.0024 - val_mean_squared_error: 8.2097e-06 - val_mean_absolute_percentage_error: 0.9669 - val_cosine_proximity: -0.9990 - val_acc: 0.0000e+00\n",
      "Epoch 56/200\n",
      "3200/3200 [==============================] - 3s 1ms/step - loss: 8.2175e-06 - mean_absolute_error: 0.0023 - mean_squared_error: 8.2175e-06 - mean_absolute_percentage_error: 0.9860 - cosine_proximity: -0.9994 - acc: 0.0000e+00 - val_loss: 1.9646e-05 - val_mean_absolute_error: 0.0043 - val_mean_squared_error: 1.9646e-05 - val_mean_absolute_percentage_error: 1.9161 - val_cosine_proximity: -0.9970 - val_acc: 0.0000e+00\n",
      "Epoch 57/200\n",
      "3200/3200 [==============================] - 3s 870us/step - loss: 7.9619e-05 - mean_absolute_error: 0.0066 - mean_squared_error: 7.9619e-05 - mean_absolute_percentage_error: 3.2977 - cosine_proximity: -0.9956 - acc: 0.0000e+00 - val_loss: 1.7340e-06 - val_mean_absolute_error: 0.0012 - val_mean_squared_error: 1.7340e-06 - val_mean_absolute_percentage_error: 0.5256 - val_cosine_proximity: -1.0000 - val_acc: 0.0000e+00\n"
     ]
    },
    {
     "name": "stdout",
     "output_type": "stream",
     "text": [
      "Epoch 58/200\n",
      "3200/3200 [==============================] - 2s 713us/step - loss: 9.0933e-07 - mean_absolute_error: 6.7590e-04 - mean_squared_error: 9.0933e-07 - mean_absolute_percentage_error: 0.3327 - cosine_proximity: -1.0000 - acc: 0.0000e+00 - val_loss: 1.1539e-06 - val_mean_absolute_error: 8.6654e-04 - val_mean_squared_error: 1.1539e-06 - val_mean_absolute_percentage_error: 0.4282 - val_cosine_proximity: -1.0000 - val_acc: 0.0000e+00\n",
      "Epoch 59/200\n",
      "3200/3200 [==============================] - 2s 671us/step - loss: 2.8520e-05 - mean_absolute_error: 0.0028 - mean_squared_error: 2.8520e-05 - mean_absolute_percentage_error: 1.1444 - cosine_proximity: -0.9981 - acc: 0.0000e+00 - val_loss: 4.2558e-06 - val_mean_absolute_error: 0.0017 - val_mean_squared_error: 4.2558e-06 - val_mean_absolute_percentage_error: 0.8323 - val_cosine_proximity: -0.9980 - val_acc: 0.0000e+00\n",
      "Epoch 60/200\n",
      "3200/3200 [==============================] - 2s 683us/step - loss: 1.0037e-05 - mean_absolute_error: 0.0022 - mean_squared_error: 1.0037e-05 - mean_absolute_percentage_error: 1.1213 - cosine_proximity: -0.9981 - acc: 0.0000e+00 - val_loss: 3.0882e-04 - val_mean_absolute_error: 0.0164 - val_mean_squared_error: 3.0882e-04 - val_mean_absolute_percentage_error: 7.2701 - val_cosine_proximity: -0.9920 - val_acc: 0.0000e+00\n",
      "Epoch 61/200\n",
      "3200/3200 [==============================] - 2s 666us/step - loss: 1.0651e-04 - mean_absolute_error: 0.0067 - mean_squared_error: 1.0651e-04 - mean_absolute_percentage_error: 2.8268 - cosine_proximity: -0.9962 - acc: 0.0000e+00 - val_loss: 6.6323e-07 - val_mean_absolute_error: 6.3072e-04 - val_mean_squared_error: 6.6323e-07 - val_mean_absolute_percentage_error: 0.2694 - val_cosine_proximity: -1.0000 - val_acc: 0.0000e+00\n",
      "Epoch 62/200\n",
      "3200/3200 [==============================] - 2s 683us/step - loss: 6.0118e-07 - mean_absolute_error: 5.0861e-04 - mean_squared_error: 6.0118e-07 - mean_absolute_percentage_error: 0.2602 - cosine_proximity: -1.0000 - acc: 0.0000e+00 - val_loss: 2.8215e-06 - val_mean_absolute_error: 0.0017 - val_mean_squared_error: 2.8215e-06 - val_mean_absolute_percentage_error: 0.7405 - val_cosine_proximity: -1.0000 - val_acc: 0.0000e+00\n",
      "Epoch 63/200\n",
      "3200/3200 [==============================] - 2s 647us/step - loss: 1.1492e-06 - mean_absolute_error: 8.1958e-04 - mean_squared_error: 1.1492e-06 - mean_absolute_percentage_error: 0.4496 - cosine_proximity: -0.9987 - acc: 0.0000e+00 - val_loss: 2.0061e-06 - val_mean_absolute_error: 0.0014 - val_mean_squared_error: 2.0061e-06 - val_mean_absolute_percentage_error: 0.6263 - val_cosine_proximity: -1.0000 - val_acc: 0.0000e+00\n",
      "Epoch 64/200\n",
      "3200/3200 [==============================] - 2s 681us/step - loss: 1.2110e-04 - mean_absolute_error: 0.0060 - mean_squared_error: 1.2110e-04 - mean_absolute_percentage_error: 2.3243 - cosine_proximity: -0.9987 - acc: 0.0000e+00 - val_loss: 1.8182e-07 - val_mean_absolute_error: 2.6774e-04 - val_mean_squared_error: 1.8182e-07 - val_mean_absolute_percentage_error: 0.1104 - val_cosine_proximity: -1.0000 - val_acc: 0.0000e+00\n",
      "Epoch 65/200\n",
      "3200/3200 [==============================] - 2s 691us/step - loss: 3.6687e-07 - mean_absolute_error: 3.7154e-04 - mean_squared_error: 3.6687e-07 - mean_absolute_percentage_error: 0.1385 - cosine_proximity: -1.0000 - acc: 0.0000e+00 - val_loss: 5.0433e-08 - val_mean_absolute_error: 1.4074e-04 - val_mean_squared_error: 5.0433e-08 - val_mean_absolute_percentage_error: 0.0645 - val_cosine_proximity: -1.0000 - val_acc: 0.0000e+00\n",
      "Epoch 66/200\n",
      "3200/3200 [==============================] - 2s 681us/step - loss: 7.5334e-05 - mean_absolute_error: 0.0051 - mean_squared_error: 7.5334e-05 - mean_absolute_percentage_error: 2.0757 - cosine_proximity: -0.9975 - acc: 0.0000e+00 - val_loss: 6.0322e-06 - val_mean_absolute_error: 0.0020 - val_mean_squared_error: 6.0322e-06 - val_mean_absolute_percentage_error: 0.9370 - val_cosine_proximity: -0.9980 - val_acc: 0.0000e+00\n",
      "Epoch 67/200\n",
      "3200/3200 [==============================] - 2s 695us/step - loss: 9.5828e-06 - mean_absolute_error: 0.0013 - mean_squared_error: 9.5828e-06 - mean_absolute_percentage_error: 0.4673 - cosine_proximity: -1.0000 - acc: 0.0000e+00 - val_loss: 2.2285e-06 - val_mean_absolute_error: 0.0014 - val_mean_squared_error: 2.2285e-06 - val_mean_absolute_percentage_error: 0.6169 - val_cosine_proximity: -1.0000 - val_acc: 0.0000e+00\n",
      "Epoch 68/200\n",
      "3200/3200 [==============================] - 2s 757us/step - loss: 4.3736e-07 - mean_absolute_error: 5.1443e-04 - mean_squared_error: 4.3736e-07 - mean_absolute_percentage_error: 0.2375 - cosine_proximity: -1.0000 - acc: 0.0000e+00 - val_loss: 2.1605e-06 - val_mean_absolute_error: 0.0014 - val_mean_squared_error: 2.1605e-06 - val_mean_absolute_percentage_error: 0.6345 - val_cosine_proximity: -1.0000 - val_acc: 0.0000e+00\n",
      "Epoch 69/200\n",
      "3200/3200 [==============================] - 2s 752us/step - loss: 1.0758e-04 - mean_absolute_error: 0.0077 - mean_squared_error: 1.0758e-04 - mean_absolute_percentage_error: 3.5791 - cosine_proximity: -0.9962 - acc: 0.0000e+00 - val_loss: 3.9702e-05 - val_mean_absolute_error: 0.0051 - val_mean_squared_error: 3.9702e-05 - val_mean_absolute_percentage_error: 2.2170 - val_cosine_proximity: -0.9960 - val_acc: 0.0000e+00\n",
      "Epoch 70/200\n",
      "3200/3200 [==============================] - 2s 701us/step - loss: 3.2803e-05 - mean_absolute_error: 0.0022 - mean_squared_error: 3.2803e-05 - mean_absolute_percentage_error: 0.7068 - cosine_proximity: -1.0000 - acc: 0.0000e+00 - val_loss: 3.1813e-08 - val_mean_absolute_error: 8.4469e-05 - val_mean_squared_error: 3.1813e-08 - val_mean_absolute_percentage_error: 0.0349 - val_cosine_proximity: -1.0000 - val_acc: 0.0000e+00\n",
      "Epoch 71/200\n",
      "3200/3200 [==============================] - 2s 703us/step - loss: 4.8876e-07 - mean_absolute_error: 4.6863e-04 - mean_squared_error: 4.8876e-07 - mean_absolute_percentage_error: 0.1910 - cosine_proximity: -1.0000 - acc: 0.0000e+00 - val_loss: 9.3965e-08 - val_mean_absolute_error: 2.6012e-04 - val_mean_squared_error: 9.3965e-08 - val_mean_absolute_percentage_error: 0.1126 - val_cosine_proximity: -1.0000 - val_acc: 0.0000e+00\n",
      "Epoch 72/200\n",
      "3200/3200 [==============================] - 2s 705us/step - loss: 5.1828e-07 - mean_absolute_error: 5.5436e-04 - mean_squared_error: 5.1828e-07 - mean_absolute_percentage_error: 0.2477 - cosine_proximity: -1.0000 - acc: 0.0000e+00 - val_loss: 1.5939e-06 - val_mean_absolute_error: 0.0012 - val_mean_squared_error: 1.5939e-06 - val_mean_absolute_percentage_error: 0.5042 - val_cosine_proximity: -1.0000 - val_acc: 0.0000e+00\n",
      "Epoch 73/200\n",
      "3200/3200 [==============================] - 2s 634us/step - loss: 1.5909e-04 - mean_absolute_error: 0.0084 - mean_squared_error: 1.5909e-04 - mean_absolute_percentage_error: 4.3780 - cosine_proximity: -0.9969 - acc: 0.0000e+00 - val_loss: 7.1588e-07 - val_mean_absolute_error: 7.6398e-04 - val_mean_squared_error: 7.1588e-07 - val_mean_absolute_percentage_error: 0.3419 - val_cosine_proximity: -1.0000 - val_acc: 0.0000e+00\n",
      "Epoch 74/200\n",
      "3200/3200 [==============================] - 2s 635us/step - loss: 3.2241e-07 - mean_absolute_error: 3.1023e-04 - mean_squared_error: 3.2241e-07 - mean_absolute_percentage_error: 0.1691 - cosine_proximity: -1.0000 - acc: 0.0000e+00 - val_loss: 1.4880e-06 - val_mean_absolute_error: 9.7686e-04 - val_mean_squared_error: 1.4880e-06 - val_mean_absolute_percentage_error: 0.4576 - val_cosine_proximity: -0.9990 - val_acc: 0.0000e+00\n",
      "Epoch 75/200\n",
      "3200/3200 [==============================] - 2s 656us/step - loss: 3.1627e-07 - mean_absolute_error: 4.1778e-04 - mean_squared_error: 3.1627e-07 - mean_absolute_percentage_error: 0.1997 - cosine_proximity: -1.0000 - acc: 0.0000e+00 - val_loss: 2.9615e-08 - val_mean_absolute_error: 1.2639e-04 - val_mean_squared_error: 2.9615e-08 - val_mean_absolute_percentage_error: 0.0469 - val_cosine_proximity: -1.0000 - val_acc: 0.0000e+00\n",
      "Epoch 76/200\n",
      "3200/3200 [==============================] - 2s 663us/step - loss: 7.7750e-06 - mean_absolute_error: 0.0017 - mean_squared_error: 7.7750e-06 - mean_absolute_percentage_error: 0.8104 - cosine_proximity: -0.9994 - acc: 0.0000e+00 - val_loss: 3.1888e-05 - val_mean_absolute_error: 0.0052 - val_mean_squared_error: 3.1888e-05 - val_mean_absolute_percentage_error: 2.2674 - val_cosine_proximity: -0.9980 - val_acc: 0.0000e+00\n"
     ]
    },
    {
     "name": "stdout",
     "output_type": "stream",
     "text": [
      "Epoch 77/200\n",
      "3200/3200 [==============================] - 2s 647us/step - loss: 3.8204e-05 - mean_absolute_error: 0.0046 - mean_squared_error: 3.8204e-05 - mean_absolute_percentage_error: 2.2468 - cosine_proximity: -0.9994 - acc: 0.0000e+00 - val_loss: 9.3207e-07 - val_mean_absolute_error: 7.6845e-04 - val_mean_squared_error: 9.3207e-07 - val_mean_absolute_percentage_error: 0.3646 - val_cosine_proximity: -1.0000 - val_acc: 0.0000e+00\n",
      "Epoch 78/200\n",
      "3200/3200 [==============================] - 2s 636us/step - loss: 8.8391e-05 - mean_absolute_error: 0.0051 - mean_squared_error: 8.8391e-05 - mean_absolute_percentage_error: 2.4672 - cosine_proximity: -0.9969 - acc: 0.0000e+00 - val_loss: 1.3520e-05 - val_mean_absolute_error: 0.0030 - val_mean_squared_error: 1.3520e-05 - val_mean_absolute_percentage_error: 1.2478 - val_cosine_proximity: -1.0000 - val_acc: 0.0000e+00\n",
      "Epoch 79/200\n",
      "3200/3200 [==============================] - 2s 643us/step - loss: 8.9943e-06 - mean_absolute_error: 0.0014 - mean_squared_error: 8.9943e-06 - mean_absolute_percentage_error: 0.7590 - cosine_proximity: -0.9987 - acc: 0.0000e+00 - val_loss: 4.4841e-07 - val_mean_absolute_error: 5.9731e-04 - val_mean_squared_error: 4.4841e-07 - val_mean_absolute_percentage_error: 0.2470 - val_cosine_proximity: -1.0000 - val_acc: 0.0000e+00\n",
      "Epoch 80/200\n",
      "3200/3200 [==============================] - 2s 649us/step - loss: 2.5512e-07 - mean_absolute_error: 3.8791e-04 - mean_squared_error: 2.5512e-07 - mean_absolute_percentage_error: 0.1727 - cosine_proximity: -1.0000 - acc: 0.0000e+00 - val_loss: 3.7573e-07 - val_mean_absolute_error: 4.9731e-04 - val_mean_squared_error: 3.7573e-07 - val_mean_absolute_percentage_error: 0.2244 - val_cosine_proximity: -1.0000 - val_acc: 0.0000e+00\n",
      "Epoch 81/200\n",
      "3200/3200 [==============================] - 2s 649us/step - loss: 5.5054e-05 - mean_absolute_error: 0.0055 - mean_squared_error: 5.5054e-05 - mean_absolute_percentage_error: 2.5985 - cosine_proximity: -0.9969 - acc: 0.0000e+00 - val_loss: 1.1111e-05 - val_mean_absolute_error: 0.0027 - val_mean_squared_error: 1.1111e-05 - val_mean_absolute_percentage_error: 1.0002 - val_cosine_proximity: -0.9980 - val_acc: 0.0000e+00\n",
      "Epoch 82/200\n",
      "3200/3200 [==============================] - 2s 478us/step - loss: 1.0126e-05 - mean_absolute_error: 0.0025 - mean_squared_error: 1.0126e-05 - mean_absolute_percentage_error: 1.3317 - cosine_proximity: -0.9981 - acc: 0.0000e+00 - val_loss: 1.2036e-05 - val_mean_absolute_error: 0.0033 - val_mean_squared_error: 1.2036e-05 - val_mean_absolute_percentage_error: 1.4668 - val_cosine_proximity: -0.9980 - val_acc: 0.0000e+00\n",
      "Epoch 83/200\n",
      "3200/3200 [==============================] - 2s 651us/step - loss: 6.4905e-05 - mean_absolute_error: 0.0049 - mean_squared_error: 6.4905e-05 - mean_absolute_percentage_error: 2.1972 - cosine_proximity: -0.9969 - acc: 0.0000e+00 - val_loss: 1.2134e-05 - val_mean_absolute_error: 0.0034 - val_mean_squared_error: 1.2134e-05 - val_mean_absolute_percentage_error: 1.5391 - val_cosine_proximity: -0.9970 - val_acc: 0.0000e+00\n",
      "Epoch 84/200\n",
      "3200/3200 [==============================] - 2s 679us/step - loss: 4.1058e-06 - mean_absolute_error: 0.0016 - mean_squared_error: 4.1058e-06 - mean_absolute_percentage_error: 0.8875 - cosine_proximity: -1.0000 - acc: 0.0000e+00 - val_loss: 1.2292e-06 - val_mean_absolute_error: 9.3724e-04 - val_mean_squared_error: 1.2292e-06 - val_mean_absolute_percentage_error: 0.4116 - val_cosine_proximity: -1.0000 - val_acc: 0.0000e+00\n",
      "Epoch 85/200\n",
      "3200/3200 [==============================] - 2s 649us/step - loss: 2.7108e-04 - mean_absolute_error: 0.0082 - mean_squared_error: 2.7108e-04 - mean_absolute_percentage_error: 3.4409 - cosine_proximity: -0.9975 - acc: 0.0000e+00 - val_loss: 1.4593e-07 - val_mean_absolute_error: 1.1582e-04 - val_mean_squared_error: 1.4593e-07 - val_mean_absolute_percentage_error: 0.0438 - val_cosine_proximity: -1.0000 - val_acc: 0.0000e+00\n",
      "Epoch 86/200\n",
      "3200/3200 [==============================] - 2s 645us/step - loss: 4.3369e-07 - mean_absolute_error: 2.9756e-04 - mean_squared_error: 4.3369e-07 - mean_absolute_percentage_error: 0.1217 - cosine_proximity: -1.0000 - acc: 0.0000e+00 - val_loss: 1.0360e-06 - val_mean_absolute_error: 9.5862e-04 - val_mean_squared_error: 1.0360e-06 - val_mean_absolute_percentage_error: 0.4127 - val_cosine_proximity: -1.0000 - val_acc: 0.0000e+00\n",
      "Epoch 87/200\n",
      "3200/3200 [==============================] - 2s 577us/step - loss: 3.3481e-07 - mean_absolute_error: 3.2658e-04 - mean_squared_error: 3.3481e-07 - mean_absolute_percentage_error: 0.1561 - cosine_proximity: -1.0000 - acc: 0.0000e+00 - val_loss: 1.4725e-07 - val_mean_absolute_error: 3.0019e-04 - val_mean_squared_error: 1.4725e-07 - val_mean_absolute_percentage_error: 0.1219 - val_cosine_proximity: -1.0000 - val_acc: 0.0000e+00\n",
      "Epoch 88/200\n",
      "3200/3200 [==============================] - 2s 545us/step - loss: 1.7531e-07 - mean_absolute_error: 3.0233e-04 - mean_squared_error: 1.7531e-07 - mean_absolute_percentage_error: 0.1371 - cosine_proximity: -1.0000 - acc: 0.0000e+00 - val_loss: 2.2248e-07 - val_mean_absolute_error: 4.5348e-04 - val_mean_squared_error: 2.2248e-07 - val_mean_absolute_percentage_error: 0.1984 - val_cosine_proximity: -1.0000 - val_acc: 0.0000e+00\n",
      "Epoch 89/200\n",
      "3200/3200 [==============================] - 2s 566us/step - loss: 3.4561e-07 - mean_absolute_error: 4.1346e-04 - mean_squared_error: 3.4561e-07 - mean_absolute_percentage_error: 0.1938 - cosine_proximity: -1.0000 - acc: 0.0000e+00 - val_loss: 2.9341e-07 - val_mean_absolute_error: 4.4349e-04 - val_mean_squared_error: 2.9341e-07 - val_mean_absolute_percentage_error: 0.1714 - val_cosine_proximity: -1.0000 - val_acc: 0.0000e+00\n",
      "Epoch 90/200\n",
      "3200/3200 [==============================] - 2s 558us/step - loss: 1.5156e-04 - mean_absolute_error: 0.0079 - mean_squared_error: 1.5156e-04 - mean_absolute_percentage_error: 3.3741 - cosine_proximity: -0.9969 - acc: 0.0000e+00 - val_loss: 9.3983e-05 - val_mean_absolute_error: 0.0083 - val_mean_squared_error: 9.3983e-05 - val_mean_absolute_percentage_error: 3.4863 - val_cosine_proximity: -0.9970 - val_acc: 0.0000e+00\n",
      "Epoch 91/200\n",
      "3200/3200 [==============================] - 2s 555us/step - loss: 5.0045e-06 - mean_absolute_error: 9.3805e-04 - mean_squared_error: 5.0045e-06 - mean_absolute_percentage_error: 0.4295 - cosine_proximity: -0.9994 - acc: 0.0000e+00 - val_loss: 8.4051e-08 - val_mean_absolute_error: 2.0141e-04 - val_mean_squared_error: 8.4051e-08 - val_mean_absolute_percentage_error: 0.0824 - val_cosine_proximity: -1.0000 - val_acc: 0.0000e+00\n",
      "Epoch 92/200\n",
      "3200/3200 [==============================] - 2s 556us/step - loss: 2.0428e-07 - mean_absolute_error: 2.8547e-04 - mean_squared_error: 2.0428e-07 - mean_absolute_percentage_error: 0.1298 - cosine_proximity: -1.0000 - acc: 0.0000e+00 - val_loss: 6.6581e-07 - val_mean_absolute_error: 7.1581e-04 - val_mean_squared_error: 6.6581e-07 - val_mean_absolute_percentage_error: 0.3150 - val_cosine_proximity: -1.0000 - val_acc: 0.0000e+00\n",
      "Epoch 93/200\n",
      "3200/3200 [==============================] - 2s 598us/step - loss: 7.5135e-05 - mean_absolute_error: 0.0049 - mean_squared_error: 7.5135e-05 - mean_absolute_percentage_error: 2.5131 - cosine_proximity: -0.9975 - acc: 0.0000e+00 - val_loss: 4.7210e-04 - val_mean_absolute_error: 0.0200 - val_mean_squared_error: 4.7210e-04 - val_mean_absolute_percentage_error: 9.0714 - val_cosine_proximity: -0.9860 - val_acc: 0.0000e+00\n",
      "Epoch 94/200\n",
      "3200/3200 [==============================] - 2s 586us/step - loss: 2.4399e-05 - mean_absolute_error: 0.0019 - mean_squared_error: 2.4399e-05 - mean_absolute_percentage_error: 0.8919 - cosine_proximity: -0.9981 - acc: 0.0000e+00 - val_loss: 9.1954e-09 - val_mean_absolute_error: 4.3700e-05 - val_mean_squared_error: 9.1954e-09 - val_mean_absolute_percentage_error: 0.0125 - val_cosine_proximity: -1.0000 - val_acc: 0.0000e+00\n",
      "Epoch 95/200\n",
      "3200/3200 [==============================] - 2s 691us/step - loss: 7.8453e-06 - mean_absolute_error: 0.0016 - mean_squared_error: 7.8453e-06 - mean_absolute_percentage_error: 0.5547 - cosine_proximity: -0.9994 - acc: 0.0000e+00 - val_loss: 4.0883e-05 - val_mean_absolute_error: 0.0058 - val_mean_squared_error: 4.0883e-05 - val_mean_absolute_percentage_error: 2.5884 - val_cosine_proximity: -0.9970 - val_acc: 0.0000e+00\n"
     ]
    },
    {
     "name": "stdout",
     "output_type": "stream",
     "text": [
      "Epoch 96/200\n",
      "3200/3200 [==============================] - 2s 675us/step - loss: 2.9871e-05 - mean_absolute_error: 0.0031 - mean_squared_error: 2.9871e-05 - mean_absolute_percentage_error: 1.1996 - cosine_proximity: -0.9994 - acc: 0.0000e+00 - val_loss: 9.7506e-08 - val_mean_absolute_error: 2.4810e-04 - val_mean_squared_error: 9.7506e-08 - val_mean_absolute_percentage_error: 0.0938 - val_cosine_proximity: -1.0000 - val_acc: 0.0000e+00\n",
      "Epoch 97/200\n",
      "3200/3200 [==============================] - 2s 571us/step - loss: 4.7488e-05 - mean_absolute_error: 0.0040 - mean_squared_error: 4.7488e-05 - mean_absolute_percentage_error: 1.5838 - cosine_proximity: -1.0000 - acc: 0.0000e+00 - val_loss: 2.1971e-06 - val_mean_absolute_error: 0.0014 - val_mean_squared_error: 2.1971e-06 - val_mean_absolute_percentage_error: 0.5809 - val_cosine_proximity: -1.0000 - val_acc: 0.0000e+00\n",
      "Epoch 98/200\n",
      "3200/3200 [==============================] - 2s 522us/step - loss: 6.8097e-05 - mean_absolute_error: 0.0039 - mean_squared_error: 6.8097e-05 - mean_absolute_percentage_error: 1.9696 - cosine_proximity: -0.9981 - acc: 0.0000e+00 - val_loss: 4.0829e-05 - val_mean_absolute_error: 0.0057 - val_mean_squared_error: 4.0829e-05 - val_mean_absolute_percentage_error: 2.4741 - val_cosine_proximity: -0.9960 - val_acc: 0.0000e+00\n",
      "Epoch 99/200\n",
      "3200/3200 [==============================] - 2s 528us/step - loss: 1.1320e-05 - mean_absolute_error: 0.0020 - mean_squared_error: 1.1320e-05 - mean_absolute_percentage_error: 0.7515 - cosine_proximity: -1.0000 - acc: 0.0000e+00 - val_loss: 5.5717e-06 - val_mean_absolute_error: 0.0023 - val_mean_squared_error: 5.5717e-06 - val_mean_absolute_percentage_error: 1.0265 - val_cosine_proximity: -0.9990 - val_acc: 0.0000e+00\n",
      "Epoch 100/200\n",
      "3200/3200 [==============================] - 1s 466us/step - loss: 1.4151e-05 - mean_absolute_error: 0.0023 - mean_squared_error: 1.4151e-05 - mean_absolute_percentage_error: 1.2955 - cosine_proximity: -0.9969 - acc: 0.0000e+00 - val_loss: 6.3032e-05 - val_mean_absolute_error: 0.0076 - val_mean_squared_error: 6.3032e-05 - val_mean_absolute_percentage_error: 3.3936 - val_cosine_proximity: -0.9990 - val_acc: 0.0000e+00\n",
      "Epoch 101/200\n",
      "3200/3200 [==============================] - 2s 489us/step - loss: 2.8992e-05 - mean_absolute_error: 0.0038 - mean_squared_error: 2.8992e-05 - mean_absolute_percentage_error: 1.7065 - cosine_proximity: -0.9969 - acc: 0.0000e+00 - val_loss: 1.8453e-05 - val_mean_absolute_error: 0.0037 - val_mean_squared_error: 1.8453e-05 - val_mean_absolute_percentage_error: 1.7025 - val_cosine_proximity: -1.0000 - val_acc: 0.0000e+00\n",
      "Epoch 102/200\n",
      "3200/3200 [==============================] - 2s 519us/step - loss: 2.5477e-05 - mean_absolute_error: 0.0029 - mean_squared_error: 2.5477e-05 - mean_absolute_percentage_error: 2.0585 - cosine_proximity: -0.9981 - acc: 0.0000e+00 - val_loss: 1.6432e-07 - val_mean_absolute_error: 3.1038e-04 - val_mean_squared_error: 1.6432e-07 - val_mean_absolute_percentage_error: 0.1518 - val_cosine_proximity: -1.0000 - val_acc: 0.0000e+00\n",
      "Epoch 103/200\n",
      "3200/3200 [==============================] - 2s 526us/step - loss: 1.3181e-04 - mean_absolute_error: 0.0066 - mean_squared_error: 1.3181e-04 - mean_absolute_percentage_error: 2.6492 - cosine_proximity: -0.9981 - acc: 0.0000e+00 - val_loss: 1.1701e-05 - val_mean_absolute_error: 0.0028 - val_mean_squared_error: 1.1701e-05 - val_mean_absolute_percentage_error: 1.1863 - val_cosine_proximity: -1.0000 - val_acc: 0.0000e+00\n",
      "Epoch 104/200\n",
      "3200/3200 [==============================] - 2s 498us/step - loss: 1.4033e-05 - mean_absolute_error: 0.0024 - mean_squared_error: 1.4033e-05 - mean_absolute_percentage_error: 1.2153 - cosine_proximity: -0.9994 - acc: 0.0000e+00 - val_loss: 3.5485e-08 - val_mean_absolute_error: 8.4917e-05 - val_mean_squared_error: 3.5485e-08 - val_mean_absolute_percentage_error: 0.0342 - val_cosine_proximity: -1.0000 - val_acc: 0.0000e+00\n",
      "Epoch 105/200\n",
      "3200/3200 [==============================] - 2s 496us/step - loss: 1.6295e-07 - mean_absolute_error: 2.3877e-04 - mean_squared_error: 1.6295e-07 - mean_absolute_percentage_error: 0.1160 - cosine_proximity: -1.0000 - acc: 0.0000e+00 - val_loss: 4.0901e-07 - val_mean_absolute_error: 6.2523e-04 - val_mean_squared_error: 4.0901e-07 - val_mean_absolute_percentage_error: 0.2767 - val_cosine_proximity: -1.0000 - val_acc: 0.0000e+00\n",
      "Epoch 106/200\n",
      "3200/3200 [==============================] - 2s 492us/step - loss: 1.5656e-06 - mean_absolute_error: 7.8619e-04 - mean_squared_error: 1.5656e-06 - mean_absolute_percentage_error: 0.2957 - cosine_proximity: -1.0000 - acc: 0.0000e+00 - val_loss: 5.8609e-06 - val_mean_absolute_error: 0.0021 - val_mean_squared_error: 5.8609e-06 - val_mean_absolute_percentage_error: 0.9118 - val_cosine_proximity: -0.9980 - val_acc: 0.0000e+00\n",
      "Epoch 107/200\n",
      "3200/3200 [==============================] - 1s 458us/step - loss: 4.1323e-05 - mean_absolute_error: 0.0051 - mean_squared_error: 4.1323e-05 - mean_absolute_percentage_error: 2.2871 - cosine_proximity: -0.9975 - acc: 0.0000e+00 - val_loss: 2.2648e-05 - val_mean_absolute_error: 0.0044 - val_mean_squared_error: 2.2648e-05 - val_mean_absolute_percentage_error: 2.0254 - val_cosine_proximity: -0.9970 - val_acc: 0.0000e+00\n",
      "Epoch 108/200\n",
      "3200/3200 [==============================] - 2s 530us/step - loss: 3.0937e-05 - mean_absolute_error: 0.0039 - mean_squared_error: 3.0937e-05 - mean_absolute_percentage_error: 2.0834 - cosine_proximity: -0.9987 - acc: 0.0000e+00 - val_loss: 3.9815e-06 - val_mean_absolute_error: 0.0016 - val_mean_squared_error: 3.9815e-06 - val_mean_absolute_percentage_error: 0.7733 - val_cosine_proximity: -0.9980 - val_acc: 0.0000e+00\n",
      "Epoch 109/200\n",
      "3200/3200 [==============================] - 2s 527us/step - loss: 2.1395e-05 - mean_absolute_error: 0.0029 - mean_squared_error: 2.1395e-05 - mean_absolute_percentage_error: 1.5999 - cosine_proximity: -0.9994 - acc: 0.0000e+00 - val_loss: 2.1278e-05 - val_mean_absolute_error: 0.0037 - val_mean_squared_error: 2.1278e-05 - val_mean_absolute_percentage_error: 1.5947 - val_cosine_proximity: -0.9980 - val_acc: 0.0000e+00\n",
      "Epoch 110/200\n",
      "3200/3200 [==============================] - 2s 525us/step - loss: 4.5115e-05 - mean_absolute_error: 0.0039 - mean_squared_error: 4.5115e-05 - mean_absolute_percentage_error: 2.4761 - cosine_proximity: -0.9994 - acc: 0.0000e+00 - val_loss: 1.5391e-06 - val_mean_absolute_error: 0.0012 - val_mean_squared_error: 1.5391e-06 - val_mean_absolute_percentage_error: 0.5364 - val_cosine_proximity: -1.0000 - val_acc: 0.0000e+00\n",
      "Epoch 111/200\n",
      "3200/3200 [==============================] - 2s 530us/step - loss: 1.6925e-06 - mean_absolute_error: 8.0391e-04 - mean_squared_error: 1.6925e-06 - mean_absolute_percentage_error: 0.4316 - cosine_proximity: -0.9981 - acc: 0.0000e+00 - val_loss: 1.2433e-04 - val_mean_absolute_error: 0.0111 - val_mean_squared_error: 1.2433e-04 - val_mean_absolute_percentage_error: 4.9606 - val_cosine_proximity: -0.9950 - val_acc: 0.0000e+00\n",
      "Epoch 112/200\n",
      "3200/3200 [==============================] - 2s 513us/step - loss: 1.1535e-04 - mean_absolute_error: 0.0053 - mean_squared_error: 1.1535e-04 - mean_absolute_percentage_error: 3.0773 - cosine_proximity: -0.9956 - acc: 0.0000e+00 - val_loss: 4.1646e-07 - val_mean_absolute_error: 5.5139e-04 - val_mean_squared_error: 4.1646e-07 - val_mean_absolute_percentage_error: 0.2215 - val_cosine_proximity: -1.0000 - val_acc: 0.0000e+00\n",
      "Epoch 113/200\n",
      "3200/3200 [==============================] - 2s 501us/step - loss: 2.1170e-07 - mean_absolute_error: 2.7128e-04 - mean_squared_error: 2.1170e-07 - mean_absolute_percentage_error: 0.1393 - cosine_proximity: -1.0000 - acc: 0.0000e+00 - val_loss: 2.7903e-08 - val_mean_absolute_error: 1.3341e-04 - val_mean_squared_error: 2.7903e-08 - val_mean_absolute_percentage_error: 0.0634 - val_cosine_proximity: -1.0000 - val_acc: 0.0000e+00\n",
      "Epoch 114/200\n",
      "3200/3200 [==============================] - 2s 501us/step - loss: 9.1800e-07 - mean_absolute_error: 5.2748e-04 - mean_squared_error: 9.1800e-07 - mean_absolute_percentage_error: 0.3011 - cosine_proximity: -0.9994 - acc: 0.0000e+00 - val_loss: 1.0321e-05 - val_mean_absolute_error: 0.0030 - val_mean_squared_error: 1.0321e-05 - val_mean_absolute_percentage_error: 1.3266 - val_cosine_proximity: -1.0000 - val_acc: 0.0000e+00\n"
     ]
    },
    {
     "name": "stdout",
     "output_type": "stream",
     "text": [
      "Epoch 115/200\n",
      "3200/3200 [==============================] - 2s 488us/step - loss: 1.3818e-04 - mean_absolute_error: 0.0084 - mean_squared_error: 1.3818e-04 - mean_absolute_percentage_error: 3.4650 - cosine_proximity: -0.9937 - acc: 0.0000e+00 - val_loss: 1.5076e-06 - val_mean_absolute_error: 9.6380e-04 - val_mean_squared_error: 1.5076e-06 - val_mean_absolute_percentage_error: 0.3973 - val_cosine_proximity: -1.0000 - val_acc: 0.0000e+00\n",
      "Epoch 116/200\n",
      "3200/3200 [==============================] - 2s 491us/step - loss: 7.9148e-07 - mean_absolute_error: 5.9853e-04 - mean_squared_error: 7.9148e-07 - mean_absolute_percentage_error: 0.2995 - cosine_proximity: -0.9994 - acc: 0.0000e+00 - val_loss: 7.7039e-08 - val_mean_absolute_error: 2.4063e-04 - val_mean_squared_error: 7.7039e-08 - val_mean_absolute_percentage_error: 0.1032 - val_cosine_proximity: -1.0000 - val_acc: 0.0000e+00\n",
      "Epoch 117/200\n",
      "3200/3200 [==============================] - 2s 482us/step - loss: 3.0725e-07 - mean_absolute_error: 3.9541e-04 - mean_squared_error: 3.0725e-07 - mean_absolute_percentage_error: 0.1520 - cosine_proximity: -1.0000 - acc: 0.0000e+00 - val_loss: 5.5817e-07 - val_mean_absolute_error: 6.4733e-04 - val_mean_squared_error: 5.5817e-07 - val_mean_absolute_percentage_error: 0.2624 - val_cosine_proximity: -1.0000 - val_acc: 0.0000e+00\n",
      "Epoch 118/200\n",
      "3200/3200 [==============================] - 2s 491us/step - loss: 5.4785e-05 - mean_absolute_error: 0.0043 - mean_squared_error: 5.4785e-05 - mean_absolute_percentage_error: 2.0905 - cosine_proximity: -0.9975 - acc: 0.0000e+00 - val_loss: 1.6546e-04 - val_mean_absolute_error: 0.0108 - val_mean_squared_error: 1.6546e-04 - val_mean_absolute_percentage_error: 5.0058 - val_cosine_proximity: -0.9940 - val_acc: 0.0000e+00\n",
      "Epoch 119/200\n",
      "3200/3200 [==============================] - 2s 485us/step - loss: 1.2050e-05 - mean_absolute_error: 0.0016 - mean_squared_error: 1.2050e-05 - mean_absolute_percentage_error: 0.6463 - cosine_proximity: -1.0000 - acc: 0.0000e+00 - val_loss: 2.6319e-07 - val_mean_absolute_error: 4.1852e-04 - val_mean_squared_error: 2.6319e-07 - val_mean_absolute_percentage_error: 0.1693 - val_cosine_proximity: -1.0000 - val_acc: 0.0000e+00\n",
      "Epoch 120/200\n",
      "3200/3200 [==============================] - 1s 459us/step - loss: 6.0553e-06 - mean_absolute_error: 0.0018 - mean_squared_error: 6.0553e-06 - mean_absolute_percentage_error: 0.8056 - cosine_proximity: -1.0000 - acc: 0.0000e+00 - val_loss: 9.4266e-05 - val_mean_absolute_error: 0.0096 - val_mean_squared_error: 9.4266e-05 - val_mean_absolute_percentage_error: 4.2472 - val_cosine_proximity: -0.9930 - val_acc: 0.0000e+00\n",
      "Epoch 121/200\n",
      "3200/3200 [==============================] - 2s 624us/step - loss: 1.0069e-04 - mean_absolute_error: 0.0065 - mean_squared_error: 1.0069e-04 - mean_absolute_percentage_error: 3.6756 - cosine_proximity: -0.9962 - acc: 0.0000e+00 - val_loss: 8.3842e-07 - val_mean_absolute_error: 7.7818e-04 - val_mean_squared_error: 8.3842e-07 - val_mean_absolute_percentage_error: 0.3524 - val_cosine_proximity: -1.0000 - val_acc: 0.0000e+00\n",
      "Epoch 122/200\n",
      "3200/3200 [==============================] - 2s 581us/step - loss: 7.8485e-07 - mean_absolute_error: 6.8154e-04 - mean_squared_error: 7.8485e-07 - mean_absolute_percentage_error: 0.3515 - cosine_proximity: -1.0000 - acc: 0.0000e+00 - val_loss: 7.8159e-08 - val_mean_absolute_error: 2.1454e-04 - val_mean_squared_error: 7.8159e-08 - val_mean_absolute_percentage_error: 0.0826 - val_cosine_proximity: -1.0000 - val_acc: 0.0000e+00\n",
      "Epoch 123/200\n",
      "3200/3200 [==============================] - 2s 540us/step - loss: 5.3416e-07 - mean_absolute_error: 4.9072e-04 - mean_squared_error: 5.3416e-07 - mean_absolute_percentage_error: 0.1871 - cosine_proximity: -1.0000 - acc: 0.0000e+00 - val_loss: 3.7704e-06 - val_mean_absolute_error: 0.0018 - val_mean_squared_error: 3.7704e-06 - val_mean_absolute_percentage_error: 0.8155 - val_cosine_proximity: -1.0000 - val_acc: 0.0000e+00\n",
      "Epoch 124/200\n",
      "3200/3200 [==============================] - 2s 475us/step - loss: 1.5358e-04 - mean_absolute_error: 0.0079 - mean_squared_error: 1.5358e-04 - mean_absolute_percentage_error: 3.4153 - cosine_proximity: -0.9962 - acc: 0.0000e+00 - val_loss: 1.7152e-06 - val_mean_absolute_error: 0.0012 - val_mean_squared_error: 1.7152e-06 - val_mean_absolute_percentage_error: 0.5375 - val_cosine_proximity: -1.0000 - val_acc: 0.0000e+00\n",
      "Epoch 125/200\n",
      "3200/3200 [==============================] - 2s 495us/step - loss: 5.7324e-07 - mean_absolute_error: 5.4729e-04 - mean_squared_error: 5.7324e-07 - mean_absolute_percentage_error: 0.2446 - cosine_proximity: -1.0000 - acc: 0.0000e+00 - val_loss: 2.0952e-07 - val_mean_absolute_error: 3.8649e-04 - val_mean_squared_error: 2.0952e-07 - val_mean_absolute_percentage_error: 0.1709 - val_cosine_proximity: -1.0000 - val_acc: 0.0000e+00\n",
      "Epoch 126/200\n",
      "3200/3200 [==============================] - 2s 503us/step - loss: 5.5782e-07 - mean_absolute_error: 4.7285e-04 - mean_squared_error: 5.5782e-07 - mean_absolute_percentage_error: 0.2337 - cosine_proximity: -1.0000 - acc: 0.0000e+00 - val_loss: 3.2616e-07 - val_mean_absolute_error: 5.3174e-04 - val_mean_squared_error: 3.2616e-07 - val_mean_absolute_percentage_error: 0.2392 - val_cosine_proximity: -1.0000 - val_acc: 0.0000e+00\n",
      "Epoch 127/200\n",
      "3200/3200 [==============================] - 2s 504us/step - loss: 1.0599e-04 - mean_absolute_error: 0.0050 - mean_squared_error: 1.0599e-04 - mean_absolute_percentage_error: 2.3948 - cosine_proximity: -0.9975 - acc: 0.0000e+00 - val_loss: 7.0736e-04 - val_mean_absolute_error: 0.0218 - val_mean_squared_error: 7.0736e-04 - val_mean_absolute_percentage_error: 9.8137 - val_cosine_proximity: -0.9880 - val_acc: 0.0000e+00\n",
      "Epoch 128/200\n",
      "3200/3200 [==============================] - 2s 507us/step - loss: 7.7741e-05 - mean_absolute_error: 0.0032 - mean_squared_error: 7.7741e-05 - mean_absolute_percentage_error: 1.3686 - cosine_proximity: -0.9975 - acc: 0.0000e+00 - val_loss: 3.7771e-07 - val_mean_absolute_error: 4.8993e-04 - val_mean_squared_error: 3.7771e-07 - val_mean_absolute_percentage_error: 0.1995 - val_cosine_proximity: -1.0000 - val_acc: 0.0000e+00\n",
      "Epoch 129/200\n",
      "3200/3200 [==============================] - 2s 551us/step - loss: 1.8251e-07 - mean_absolute_error: 2.6317e-04 - mean_squared_error: 1.8251e-07 - mean_absolute_percentage_error: 0.0957 - cosine_proximity: -1.0000 - acc: 0.0000e+00 - val_loss: 6.6052e-08 - val_mean_absolute_error: 2.2611e-04 - val_mean_squared_error: 6.6052e-08 - val_mean_absolute_percentage_error: 0.0992 - val_cosine_proximity: -1.0000 - val_acc: 0.0000e+00\n",
      "Epoch 130/200\n",
      "3200/3200 [==============================] - 2s 564us/step - loss: 2.5342e-07 - mean_absolute_error: 3.4733e-04 - mean_squared_error: 2.5342e-07 - mean_absolute_percentage_error: 0.1530 - cosine_proximity: -1.0000 - acc: 0.0000e+00 - val_loss: 6.2286e-07 - val_mean_absolute_error: 6.6345e-04 - val_mean_squared_error: 6.2286e-07 - val_mean_absolute_percentage_error: 0.2884 - val_cosine_proximity: -1.0000 - val_acc: 0.0000e+00\n",
      "Epoch 131/200\n",
      "3200/3200 [==============================] - 2s 656us/step - loss: 1.3805e-06 - mean_absolute_error: 8.6928e-04 - mean_squared_error: 1.3805e-06 - mean_absolute_percentage_error: 0.4190 - cosine_proximity: -1.0000 - acc: 0.0000e+00 - val_loss: 9.7561e-06 - val_mean_absolute_error: 0.0029 - val_mean_squared_error: 9.7561e-06 - val_mean_absolute_percentage_error: 1.3429 - val_cosine_proximity: -1.0000 - val_acc: 0.0000e+00\n",
      "Epoch 132/200\n",
      "3200/3200 [==============================] - 2s 588us/step - loss: 7.0177e-05 - mean_absolute_error: 0.0055 - mean_squared_error: 7.0177e-05 - mean_absolute_percentage_error: 2.5983 - cosine_proximity: -0.9962 - acc: 0.0000e+00 - val_loss: 4.7564e-06 - val_mean_absolute_error: 0.0018 - val_mean_squared_error: 4.7564e-06 - val_mean_absolute_percentage_error: 0.7409 - val_cosine_proximity: -1.0000 - val_acc: 0.0000e+00\n",
      "Epoch 133/200\n",
      "3200/3200 [==============================] - 2s 603us/step - loss: 4.2976e-06 - mean_absolute_error: 0.0015 - mean_squared_error: 4.2976e-06 - mean_absolute_percentage_error: 0.8966 - cosine_proximity: -0.9981 - acc: 0.0000e+00 - val_loss: 1.5279e-05 - val_mean_absolute_error: 0.0037 - val_mean_squared_error: 1.5279e-05 - val_mean_absolute_percentage_error: 1.6045 - val_cosine_proximity: -0.9990 - val_acc: 0.0000e+00\n"
     ]
    },
    {
     "name": "stdout",
     "output_type": "stream",
     "text": [
      "Epoch 134/200\n",
      "3200/3200 [==============================] - 2s 573us/step - loss: 6.9065e-05 - mean_absolute_error: 0.0054 - mean_squared_error: 6.9065e-05 - mean_absolute_percentage_error: 2.6326 - cosine_proximity: -0.9975 - acc: 0.0000e+00 - val_loss: 8.2702e-05 - val_mean_absolute_error: 0.0074 - val_mean_squared_error: 8.2702e-05 - val_mean_absolute_percentage_error: 3.3538 - val_cosine_proximity: -0.9960 - val_acc: 0.0000e+00\n",
      "Epoch 135/200\n",
      "3200/3200 [==============================] - 2s 557us/step - loss: 3.8804e-05 - mean_absolute_error: 0.0030 - mean_squared_error: 3.8804e-05 - mean_absolute_percentage_error: 1.1453 - cosine_proximity: -0.9994 - acc: 0.0000e+00 - val_loss: 3.8489e-07 - val_mean_absolute_error: 5.7896e-04 - val_mean_squared_error: 3.8489e-07 - val_mean_absolute_percentage_error: 0.2474 - val_cosine_proximity: -1.0000 - val_acc: 0.0000e+00\n",
      "Epoch 136/200\n",
      "3200/3200 [==============================] - 2s 558us/step - loss: 4.9433e-07 - mean_absolute_error: 4.6078e-04 - mean_squared_error: 4.9433e-07 - mean_absolute_percentage_error: 0.2099 - cosine_proximity: -1.0000 - acc: 0.0000e+00 - val_loss: 6.2437e-07 - val_mean_absolute_error: 7.1319e-04 - val_mean_squared_error: 6.2437e-07 - val_mean_absolute_percentage_error: 0.2960 - val_cosine_proximity: -1.0000 - val_acc: 0.0000e+00\n",
      "Epoch 137/200\n",
      "3200/3200 [==============================] - 2s 625us/step - loss: 5.1126e-05 - mean_absolute_error: 0.0033 - mean_squared_error: 5.1126e-05 - mean_absolute_percentage_error: 1.2508 - cosine_proximity: -0.9987 - acc: 0.0000e+00 - val_loss: 3.7599e-04 - val_mean_absolute_error: 0.0179 - val_mean_squared_error: 3.7599e-04 - val_mean_absolute_percentage_error: 7.9639 - val_cosine_proximity: -0.9920 - val_acc: 0.0000e+00\n",
      "Epoch 138/200\n",
      "3200/3200 [==============================] - 2s 613us/step - loss: 1.8541e-05 - mean_absolute_error: 0.0024 - mean_squared_error: 1.8541e-05 - mean_absolute_percentage_error: 0.9874 - cosine_proximity: -0.9994 - acc: 0.0000e+00 - val_loss: 5.8523e-08 - val_mean_absolute_error: 1.7776e-04 - val_mean_squared_error: 5.8523e-08 - val_mean_absolute_percentage_error: 0.0727 - val_cosine_proximity: -1.0000 - val_acc: 0.0000e+00\n",
      "Epoch 139/200\n",
      "3200/3200 [==============================] - 2s 603us/step - loss: 2.1563e-05 - mean_absolute_error: 0.0027 - mean_squared_error: 2.1563e-05 - mean_absolute_percentage_error: 1.1987 - cosine_proximity: -0.9994 - acc: 0.0000e+00 - val_loss: 2.0059e-06 - val_mean_absolute_error: 0.0012 - val_mean_squared_error: 2.0059e-06 - val_mean_absolute_percentage_error: 0.4952 - val_cosine_proximity: -1.0000 - val_acc: 0.0000e+00\n",
      "Epoch 140/200\n",
      "3200/3200 [==============================] - 2s 598us/step - loss: 3.7848e-05 - mean_absolute_error: 0.0038 - mean_squared_error: 3.7848e-05 - mean_absolute_percentage_error: 2.0865 - cosine_proximity: -0.9969 - acc: 0.0000e+00 - val_loss: 3.1272e-07 - val_mean_absolute_error: 4.4219e-04 - val_mean_squared_error: 3.1272e-07 - val_mean_absolute_percentage_error: 0.1698 - val_cosine_proximity: -1.0000 - val_acc: 0.0000e+00\n",
      "Epoch 141/200\n",
      "3200/3200 [==============================] - 2s 595us/step - loss: 2.6737e-06 - mean_absolute_error: 0.0013 - mean_squared_error: 2.6737e-06 - mean_absolute_percentage_error: 0.6935 - cosine_proximity: -0.9994 - acc: 0.0000e+00 - val_loss: 7.5451e-06 - val_mean_absolute_error: 0.0026 - val_mean_squared_error: 7.5451e-06 - val_mean_absolute_percentage_error: 1.1905 - val_cosine_proximity: -1.0000 - val_acc: 0.0000e+00\n",
      "Epoch 142/200\n",
      "3200/3200 [==============================] - 2s 569us/step - loss: 9.9721e-05 - mean_absolute_error: 0.0059 - mean_squared_error: 9.9721e-05 - mean_absolute_percentage_error: 2.7366 - cosine_proximity: -0.9956 - acc: 0.0000e+00 - val_loss: 2.3069e-07 - val_mean_absolute_error: 3.6592e-04 - val_mean_squared_error: 2.3069e-07 - val_mean_absolute_percentage_error: 0.1498 - val_cosine_proximity: -1.0000 - val_acc: 0.0000e+00\n",
      "Epoch 143/200\n",
      "3200/3200 [==============================] - 2s 587us/step - loss: 6.8176e-07 - mean_absolute_error: 6.4043e-04 - mean_squared_error: 6.8176e-07 - mean_absolute_percentage_error: 0.2928 - cosine_proximity: -1.0000 - acc: 0.0000e+00 - val_loss: 7.4828e-07 - val_mean_absolute_error: 8.2652e-04 - val_mean_squared_error: 7.4828e-07 - val_mean_absolute_percentage_error: 0.3791 - val_cosine_proximity: -1.0000 - val_acc: 0.0000e+00\n",
      "Epoch 144/200\n",
      "3200/3200 [==============================] - 2s 587us/step - loss: 4.2844e-07 - mean_absolute_error: 4.6148e-04 - mean_squared_error: 4.2844e-07 - mean_absolute_percentage_error: 0.1816 - cosine_proximity: -1.0000 - acc: 0.0000e+00 - val_loss: 3.5613e-06 - val_mean_absolute_error: 0.0018 - val_mean_squared_error: 3.5613e-06 - val_mean_absolute_percentage_error: 0.7967 - val_cosine_proximity: -0.9990 - val_acc: 0.0000e+00\n",
      "Epoch 145/200\n",
      "3200/3200 [==============================] - 2s 568us/step - loss: 1.1183e-04 - mean_absolute_error: 0.0065 - mean_squared_error: 1.1183e-04 - mean_absolute_percentage_error: 2.7202 - cosine_proximity: -0.9969 - acc: 0.0000e+00 - val_loss: 4.1959e-07 - val_mean_absolute_error: 5.6459e-04 - val_mean_squared_error: 4.1959e-07 - val_mean_absolute_percentage_error: 0.2636 - val_cosine_proximity: -1.0000 - val_acc: 0.0000e+00\n",
      "Epoch 146/200\n",
      "3200/3200 [==============================] - 2s 573us/step - loss: 1.3764e-07 - mean_absolute_error: 2.3561e-04 - mean_squared_error: 1.3764e-07 - mean_absolute_percentage_error: 0.1181 - cosine_proximity: -1.0000 - acc: 0.0000e+00 - val_loss: 7.2891e-08 - val_mean_absolute_error: 2.2464e-04 - val_mean_squared_error: 7.2891e-08 - val_mean_absolute_percentage_error: 0.0925 - val_cosine_proximity: -1.0000 - val_acc: 0.0000e+00\n",
      "Epoch 147/200\n",
      "3200/3200 [==============================] - 2s 596us/step - loss: 5.0725e-07 - mean_absolute_error: 4.5066e-04 - mean_squared_error: 5.0725e-07 - mean_absolute_percentage_error: 0.2862 - cosine_proximity: -0.9994 - acc: 0.0000e+00 - val_loss: 9.2667e-07 - val_mean_absolute_error: 7.6655e-04 - val_mean_squared_error: 9.2667e-07 - val_mean_absolute_percentage_error: 0.3947 - val_cosine_proximity: -1.0000 - val_acc: 0.0000e+00\n",
      "Epoch 148/200\n",
      "3200/3200 [==============================] - 2s 751us/step - loss: 7.7371e-05 - mean_absolute_error: 0.0056 - mean_squared_error: 7.7371e-05 - mean_absolute_percentage_error: 3.0982 - cosine_proximity: -0.9962 - acc: 0.0000e+00 - val_loss: 2.3344e-06 - val_mean_absolute_error: 0.0013 - val_mean_squared_error: 2.3344e-06 - val_mean_absolute_percentage_error: 0.5449 - val_cosine_proximity: -1.0000 - val_acc: 0.0000e+00\n",
      "Epoch 149/200\n",
      "3200/3200 [==============================] - 2s 545us/step - loss: 8.6655e-07 - mean_absolute_error: 6.9966e-04 - mean_squared_error: 8.6655e-07 - mean_absolute_percentage_error: 0.2873 - cosine_proximity: -1.0000 - acc: 0.0000e+00 - val_loss: 2.1125e-06 - val_mean_absolute_error: 0.0014 - val_mean_squared_error: 2.1125e-06 - val_mean_absolute_percentage_error: 0.5938 - val_cosine_proximity: -1.0000 - val_acc: 0.0000e+00\n",
      "Epoch 150/200\n",
      "3200/3200 [==============================] - 2s 591us/step - loss: 1.6024e-05 - mean_absolute_error: 0.0030 - mean_squared_error: 1.6024e-05 - mean_absolute_percentage_error: 1.3294 - cosine_proximity: -0.9987 - acc: 0.0000e+00 - val_loss: 5.0058e-06 - val_mean_absolute_error: 0.0019 - val_mean_squared_error: 5.0058e-06 - val_mean_absolute_percentage_error: 0.7947 - val_cosine_proximity: -1.0000 - val_acc: 0.0000e+00\n",
      "Epoch 151/200\n",
      "3200/3200 [==============================] - 2s 572us/step - loss: 4.4418e-05 - mean_absolute_error: 0.0049 - mean_squared_error: 4.4418e-05 - mean_absolute_percentage_error: 2.4956 - cosine_proximity: -0.9956 - acc: 0.0000e+00 - val_loss: 1.0027e-06 - val_mean_absolute_error: 7.9589e-04 - val_mean_squared_error: 1.0027e-06 - val_mean_absolute_percentage_error: 0.2099 - val_cosine_proximity: -1.0000 - val_acc: 0.0000e+00\n",
      "Epoch 152/200\n",
      "3200/3200 [==============================] - 2s 586us/step - loss: 1.4906e-05 - mean_absolute_error: 0.0025 - mean_squared_error: 1.4906e-05 - mean_absolute_percentage_error: 1.3879 - cosine_proximity: -0.9994 - acc: 0.0000e+00 - val_loss: 1.5400e-06 - val_mean_absolute_error: 9.8947e-04 - val_mean_squared_error: 1.5400e-06 - val_mean_absolute_percentage_error: 0.5151 - val_cosine_proximity: -1.0000 - val_acc: 0.0000e+00\n"
     ]
    },
    {
     "name": "stdout",
     "output_type": "stream",
     "text": [
      "Epoch 153/200\n",
      "3200/3200 [==============================] - 2s 597us/step - loss: 3.9944e-05 - mean_absolute_error: 0.0043 - mean_squared_error: 3.9944e-05 - mean_absolute_percentage_error: 1.9355 - cosine_proximity: -0.9975 - acc: 0.0000e+00 - val_loss: 3.5229e-06 - val_mean_absolute_error: 0.0017 - val_mean_squared_error: 3.5229e-06 - val_mean_absolute_percentage_error: 0.7739 - val_cosine_proximity: -0.9990 - val_acc: 0.0000e+00\n",
      "Epoch 154/200\n",
      "3200/3200 [==============================] - 2s 681us/step - loss: 1.0235e-05 - mean_absolute_error: 0.0026 - mean_squared_error: 1.0235e-05 - mean_absolute_percentage_error: 1.1148 - cosine_proximity: -1.0000 - acc: 0.0000e+00 - val_loss: 2.6818e-05 - val_mean_absolute_error: 0.0050 - val_mean_squared_error: 2.6818e-05 - val_mean_absolute_percentage_error: 2.1932 - val_cosine_proximity: -0.9960 - val_acc: 0.0000e+00\n",
      "Epoch 155/200\n",
      "3200/3200 [==============================] - 2s 697us/step - loss: 1.3624e-04 - mean_absolute_error: 0.0071 - mean_squared_error: 1.3624e-04 - mean_absolute_percentage_error: 3.4485 - cosine_proximity: -0.9981 - acc: 0.0000e+00 - val_loss: 5.5502e-07 - val_mean_absolute_error: 6.4824e-04 - val_mean_squared_error: 5.5502e-07 - val_mean_absolute_percentage_error: 0.2847 - val_cosine_proximity: -1.0000 - val_acc: 0.0000e+00\n",
      "Epoch 156/200\n",
      "3200/3200 [==============================] - 2s 674us/step - loss: 2.4767e-07 - mean_absolute_error: 2.9396e-04 - mean_squared_error: 2.4767e-07 - mean_absolute_percentage_error: 0.1143 - cosine_proximity: -1.0000 - acc: 0.0000e+00 - val_loss: 8.7111e-07 - val_mean_absolute_error: 9.1435e-04 - val_mean_squared_error: 8.7111e-07 - val_mean_absolute_percentage_error: 0.4065 - val_cosine_proximity: -1.0000 - val_acc: 0.0000e+00\n",
      "Epoch 157/200\n",
      "3200/3200 [==============================] - 2s 569us/step - loss: 1.8153e-07 - mean_absolute_error: 2.9723e-04 - mean_squared_error: 1.8153e-07 - mean_absolute_percentage_error: 0.1290 - cosine_proximity: -1.0000 - acc: 0.0000e+00 - val_loss: 1.4130e-07 - val_mean_absolute_error: 3.4646e-04 - val_mean_squared_error: 1.4130e-07 - val_mean_absolute_percentage_error: 0.1445 - val_cosine_proximity: -1.0000 - val_acc: 0.0000e+00\n",
      "Epoch 158/200\n",
      "3200/3200 [==============================] - 2s 543us/step - loss: 1.7737e-06 - mean_absolute_error: 8.1196e-04 - mean_squared_error: 1.7737e-06 - mean_absolute_percentage_error: 0.3284 - cosine_proximity: -1.0000 - acc: 0.0000e+00 - val_loss: 3.1764e-05 - val_mean_absolute_error: 0.0049 - val_mean_squared_error: 3.1764e-05 - val_mean_absolute_percentage_error: 2.0754 - val_cosine_proximity: -0.9970 - val_acc: 0.0000e+00\n",
      "Epoch 159/200\n",
      "3200/3200 [==============================] - 2s 510us/step - loss: 6.5703e-05 - mean_absolute_error: 0.0053 - mean_squared_error: 6.5703e-05 - mean_absolute_percentage_error: 2.2088 - cosine_proximity: -0.9975 - acc: 0.0000e+00 - val_loss: 2.9219e-06 - val_mean_absolute_error: 0.0015 - val_mean_squared_error: 2.9219e-06 - val_mean_absolute_percentage_error: 0.6548 - val_cosine_proximity: -1.0000 - val_acc: 0.0000e+00\n",
      "Epoch 160/200\n",
      "3200/3200 [==============================] - 2s 548us/step - loss: 2.1028e-06 - mean_absolute_error: 0.0011 - mean_squared_error: 2.1028e-06 - mean_absolute_percentage_error: 0.4999 - cosine_proximity: -0.9994 - acc: 0.0000e+00 - val_loss: 2.4215e-06 - val_mean_absolute_error: 0.0012 - val_mean_squared_error: 2.4215e-06 - val_mean_absolute_percentage_error: 0.4824 - val_cosine_proximity: -1.0000 - val_acc: 0.0000e+00\n",
      "Epoch 161/200\n",
      "3200/3200 [==============================] - 2s 556us/step - loss: 6.5809e-05 - mean_absolute_error: 0.0059 - mean_squared_error: 6.5809e-05 - mean_absolute_percentage_error: 2.3390 - cosine_proximity: -0.9975 - acc: 0.0000e+00 - val_loss: 7.8643e-05 - val_mean_absolute_error: 0.0083 - val_mean_squared_error: 7.8643e-05 - val_mean_absolute_percentage_error: 3.8248 - val_cosine_proximity: -0.9940 - val_acc: 0.0000e+00\n",
      "Epoch 162/200\n",
      "3200/3200 [==============================] - 2s 526us/step - loss: 1.5295e-05 - mean_absolute_error: 0.0022 - mean_squared_error: 1.5295e-05 - mean_absolute_percentage_error: 0.8612 - cosine_proximity: -0.9987 - acc: 0.0000e+00 - val_loss: 1.8262e-06 - val_mean_absolute_error: 0.0012 - val_mean_squared_error: 1.8262e-06 - val_mean_absolute_percentage_error: 0.5456 - val_cosine_proximity: -1.0000 - val_acc: 0.0000e+00\n",
      "Epoch 163/200\n",
      "3200/3200 [==============================] - 2s 550us/step - loss: 1.2187e-04 - mean_absolute_error: 0.0061 - mean_squared_error: 1.2187e-04 - mean_absolute_percentage_error: 3.0634 - cosine_proximity: -0.9969 - acc: 0.0000e+00 - val_loss: 1.2942e-05 - val_mean_absolute_error: 0.0029 - val_mean_squared_error: 1.2942e-05 - val_mean_absolute_percentage_error: 1.2464 - val_cosine_proximity: -0.9980 - val_acc: 0.0000e+00\n",
      "Epoch 164/200\n",
      "3200/3200 [==============================] - 2s 520us/step - loss: 1.6232e-05 - mean_absolute_error: 0.0022 - mean_squared_error: 1.6232e-05 - mean_absolute_percentage_error: 1.4364 - cosine_proximity: -0.9981 - acc: 0.0000e+00 - val_loss: 4.5028e-08 - val_mean_absolute_error: 1.2581e-04 - val_mean_squared_error: 4.5028e-08 - val_mean_absolute_percentage_error: 0.0528 - val_cosine_proximity: -1.0000 - val_acc: 0.0000e+00\n",
      "Epoch 165/200\n",
      "3200/3200 [==============================] - 2s 492us/step - loss: 1.2027e-07 - mean_absolute_error: 2.3440e-04 - mean_squared_error: 1.2027e-07 - mean_absolute_percentage_error: 0.1158 - cosine_proximity: -1.0000 - acc: 0.0000e+00 - val_loss: 7.0169e-07 - val_mean_absolute_error: 7.8474e-04 - val_mean_squared_error: 7.0169e-07 - val_mean_absolute_percentage_error: 0.3403 - val_cosine_proximity: -1.0000 - val_acc: 0.0000e+00\n",
      "Epoch 166/200\n",
      "3200/3200 [==============================] - 2s 521us/step - loss: 7.6695e-07 - mean_absolute_error: 4.9688e-04 - mean_squared_error: 7.6695e-07 - mean_absolute_percentage_error: 0.3903 - cosine_proximity: -0.9994 - acc: 0.0000e+00 - val_loss: 2.2786e-06 - val_mean_absolute_error: 0.0013 - val_mean_squared_error: 2.2786e-06 - val_mean_absolute_percentage_error: 0.5987 - val_cosine_proximity: -1.0000 - val_acc: 0.0000e+00\n",
      "Epoch 167/200\n",
      "3200/3200 [==============================] - 2s 522us/step - loss: 8.4201e-05 - mean_absolute_error: 0.0055 - mean_squared_error: 8.4201e-05 - mean_absolute_percentage_error: 2.5119 - cosine_proximity: -0.9969 - acc: 0.0000e+00 - val_loss: 4.5687e-07 - val_mean_absolute_error: 5.1106e-04 - val_mean_squared_error: 4.5687e-07 - val_mean_absolute_percentage_error: 0.2214 - val_cosine_proximity: -1.0000 - val_acc: 0.0000e+00\n",
      "Epoch 168/200\n",
      "3200/3200 [==============================] - 2s 548us/step - loss: 3.2737e-07 - mean_absolute_error: 3.5442e-04 - mean_squared_error: 3.2737e-07 - mean_absolute_percentage_error: 0.1532 - cosine_proximity: -1.0000 - acc: 0.0000e+00 - val_loss: 6.7494e-08 - val_mean_absolute_error: 2.3340e-04 - val_mean_squared_error: 6.7494e-08 - val_mean_absolute_percentage_error: 0.1060 - val_cosine_proximity: -1.0000 - val_acc: 0.0000e+00\n",
      "Epoch 169/200\n",
      "3200/3200 [==============================] - 2s 527us/step - loss: 3.8480e-07 - mean_absolute_error: 4.8444e-04 - mean_squared_error: 3.8480e-07 - mean_absolute_percentage_error: 0.2114 - cosine_proximity: -1.0000 - acc: 0.0000e+00 - val_loss: 8.6636e-07 - val_mean_absolute_error: 7.8901e-04 - val_mean_squared_error: 8.6636e-07 - val_mean_absolute_percentage_error: 0.3309 - val_cosine_proximity: -1.0000 - val_acc: 0.0000e+00\n",
      "Epoch 170/200\n",
      "3200/3200 [==============================] - 2s 526us/step - loss: 5.4002e-05 - mean_absolute_error: 0.0047 - mean_squared_error: 5.4002e-05 - mean_absolute_percentage_error: 2.3317 - cosine_proximity: -0.9987 - acc: 0.0000e+00 - val_loss: 2.6614e-07 - val_mean_absolute_error: 4.1316e-04 - val_mean_squared_error: 2.6614e-07 - val_mean_absolute_percentage_error: 0.1739 - val_cosine_proximity: -1.0000 - val_acc: 0.0000e+00\n",
      "Epoch 171/200\n",
      "3200/3200 [==============================] - 2s 597us/step - loss: 1.2022e-05 - mean_absolute_error: 0.0021 - mean_squared_error: 1.2022e-05 - mean_absolute_percentage_error: 0.8227 - cosine_proximity: -1.0000 - acc: 0.0000e+00 - val_loss: 3.5728e-04 - val_mean_absolute_error: 0.0185 - val_mean_squared_error: 3.5728e-04 - val_mean_absolute_percentage_error: 8.1653 - val_cosine_proximity: -0.9910 - val_acc: 0.0000e+00\n"
     ]
    },
    {
     "name": "stdout",
     "output_type": "stream",
     "text": [
      "Epoch 172/200\n",
      "3200/3200 [==============================] - 2s 527us/step - loss: 2.5467e-05 - mean_absolute_error: 0.0032 - mean_squared_error: 2.5467e-05 - mean_absolute_percentage_error: 1.4563 - cosine_proximity: -0.9987 - acc: 0.0000e+00 - val_loss: 4.9583e-07 - val_mean_absolute_error: 5.6383e-04 - val_mean_squared_error: 4.9583e-07 - val_mean_absolute_percentage_error: 0.2248 - val_cosine_proximity: -1.0000 - val_acc: 0.0000e+00\n",
      "Epoch 173/200\n",
      "3200/3200 [==============================] - 2s 497us/step - loss: 9.7016e-05 - mean_absolute_error: 0.0056 - mean_squared_error: 9.7016e-05 - mean_absolute_percentage_error: 3.0973 - cosine_proximity: -0.9962 - acc: 0.0000e+00 - val_loss: 3.0418e-06 - val_mean_absolute_error: 0.0016 - val_mean_squared_error: 3.0418e-06 - val_mean_absolute_percentage_error: 0.7322 - val_cosine_proximity: -1.0000 - val_acc: 0.0000e+00\n",
      "Epoch 174/200\n",
      "3200/3200 [==============================] - 2s 505us/step - loss: 7.6581e-07 - mean_absolute_error: 5.8576e-04 - mean_squared_error: 7.6581e-07 - mean_absolute_percentage_error: 0.3396 - cosine_proximity: -0.9994 - acc: 0.0000e+00 - val_loss: 2.4499e-08 - val_mean_absolute_error: 1.0226e-04 - val_mean_squared_error: 2.4499e-08 - val_mean_absolute_percentage_error: 0.0426 - val_cosine_proximity: -1.0000 - val_acc: 0.0000e+00\n",
      "Epoch 175/200\n",
      "3200/3200 [==============================] - 2s 502us/step - loss: 5.3615e-06 - mean_absolute_error: 0.0011 - mean_squared_error: 5.3615e-06 - mean_absolute_percentage_error: 0.4677 - cosine_proximity: -1.0000 - acc: 0.0000e+00 - val_loss: 2.5438e-05 - val_mean_absolute_error: 0.0046 - val_mean_squared_error: 2.5438e-05 - val_mean_absolute_percentage_error: 2.1179 - val_cosine_proximity: -0.9960 - val_acc: 0.0000e+00\n",
      "Epoch 176/200\n",
      "3200/3200 [==============================] - 2s 509us/step - loss: 2.0125e-05 - mean_absolute_error: 0.0029 - mean_squared_error: 2.0125e-05 - mean_absolute_percentage_error: 1.2855 - cosine_proximity: -0.9987 - acc: 0.0000e+00 - val_loss: 2.9257e-06 - val_mean_absolute_error: 0.0014 - val_mean_squared_error: 2.9257e-06 - val_mean_absolute_percentage_error: 0.5822 - val_cosine_proximity: -0.9980 - val_acc: 0.0000e+00\n",
      "Epoch 177/200\n",
      "3200/3200 [==============================] - 2s 530us/step - loss: 1.0225e-04 - mean_absolute_error: 0.0074 - mean_squared_error: 1.0225e-04 - mean_absolute_percentage_error: 3.8620 - cosine_proximity: -0.9944 - acc: 0.0000e+00 - val_loss: 4.6377e-05 - val_mean_absolute_error: 0.0061 - val_mean_squared_error: 4.6377e-05 - val_mean_absolute_percentage_error: 2.6112 - val_cosine_proximity: -0.9960 - val_acc: 0.0000e+00\n",
      "Epoch 178/200\n",
      "3200/3200 [==============================] - 2s 552us/step - loss: 5.2592e-06 - mean_absolute_error: 0.0012 - mean_squared_error: 5.2592e-06 - mean_absolute_percentage_error: 0.5825 - cosine_proximity: -0.9987 - acc: 0.0000e+00 - val_loss: 1.8892e-06 - val_mean_absolute_error: 0.0014 - val_mean_squared_error: 1.8892e-06 - val_mean_absolute_percentage_error: 0.5978 - val_cosine_proximity: -1.0000 - val_acc: 0.0000e+00\n",
      "Epoch 179/200\n",
      "3200/3200 [==============================] - 2s 532us/step - loss: 1.9378e-06 - mean_absolute_error: 0.0010 - mean_squared_error: 1.9378e-06 - mean_absolute_percentage_error: 0.4543 - cosine_proximity: -1.0000 - acc: 0.0000e+00 - val_loss: 3.3502e-07 - val_mean_absolute_error: 4.9480e-04 - val_mean_squared_error: 3.3502e-07 - val_mean_absolute_percentage_error: 0.2238 - val_cosine_proximity: -1.0000 - val_acc: 0.0000e+00\n",
      "Epoch 180/200\n",
      "3200/3200 [==============================] - 2s 539us/step - loss: 2.0257e-05 - mean_absolute_error: 0.0031 - mean_squared_error: 2.0257e-05 - mean_absolute_percentage_error: 1.3141 - cosine_proximity: -0.9987 - acc: 0.0000e+00 - val_loss: 2.4821e-07 - val_mean_absolute_error: 4.0044e-04 - val_mean_squared_error: 2.4821e-07 - val_mean_absolute_percentage_error: 0.1871 - val_cosine_proximity: -1.0000 - val_acc: 0.0000e+00\n",
      "Epoch 181/200\n",
      "3200/3200 [==============================] - 2s 511us/step - loss: 7.3279e-05 - mean_absolute_error: 0.0060 - mean_squared_error: 7.3279e-05 - mean_absolute_percentage_error: 3.0446 - cosine_proximity: -0.9944 - acc: 0.0000e+00 - val_loss: 1.3063e-06 - val_mean_absolute_error: 9.2836e-04 - val_mean_squared_error: 1.3063e-06 - val_mean_absolute_percentage_error: 0.3723 - val_cosine_proximity: -1.0000 - val_acc: 0.0000e+00\n",
      "Epoch 182/200\n",
      "3200/3200 [==============================] - 2s 547us/step - loss: 2.0639e-06 - mean_absolute_error: 0.0011 - mean_squared_error: 2.0639e-06 - mean_absolute_percentage_error: 0.6297 - cosine_proximity: -0.9994 - acc: 0.0000e+00 - val_loss: 1.4960e-06 - val_mean_absolute_error: 0.0010 - val_mean_squared_error: 1.4960e-06 - val_mean_absolute_percentage_error: 0.5106 - val_cosine_proximity: -1.0000 - val_acc: 0.0000e+00\n",
      "Epoch 183/200\n",
      "3200/3200 [==============================] - 2s 530us/step - loss: 5.9880e-05 - mean_absolute_error: 0.0059 - mean_squared_error: 5.9880e-05 - mean_absolute_percentage_error: 2.3806 - cosine_proximity: -0.9987 - acc: 0.0000e+00 - val_loss: 1.2775e-05 - val_mean_absolute_error: 0.0031 - val_mean_squared_error: 1.2775e-05 - val_mean_absolute_percentage_error: 1.4031 - val_cosine_proximity: -0.9970 - val_acc: 0.0000e+00\n",
      "Epoch 184/200\n",
      "3200/3200 [==============================] - 2s 540us/step - loss: 2.4864e-06 - mean_absolute_error: 0.0010 - mean_squared_error: 2.4864e-06 - mean_absolute_percentage_error: 0.5298 - cosine_proximity: -0.9994 - acc: 0.0000e+00 - val_loss: 4.1342e-08 - val_mean_absolute_error: 1.5650e-04 - val_mean_squared_error: 4.1342e-08 - val_mean_absolute_percentage_error: 0.0588 - val_cosine_proximity: -1.0000 - val_acc: 0.0000e+00\n",
      "Epoch 185/200\n",
      "1910/3200 [================>.............] - ETA: 0s - loss: 3.6254e-07 - mean_absolute_error: 4.2222e-04 - mean_squared_error: 3.6254e-07 - mean_absolute_percentage_error: 0.2155 - cosine_proximity: -1.0000 - acc: 0.0000e+00"
     ]
    }
   ],
   "source": [
    "# Fit your MLP\n",
    "# You may choose to adjust the number of epochs, batch size, or model to get a better result.\n",
    "model.fit(x=X_train.values, y=y_train, batch_size=10, epochs=200, verbose=1, validation_data=(X_val.values, y_val))"
   ]
  },
  {
   "cell_type": "code",
   "execution_count": null,
   "metadata": {
    "scrolled": true
   },
   "outputs": [],
   "source": [
    "# summarize history for loss\n",
    "plt.figure(figsize=(10,4))\n",
    "plt.plot(model.history.history['loss'])\n",
    "plt.plot(model.history.history['val_loss'])\n",
    "plt.title('model loss')\n",
    "plt.ylabel('loss')\n",
    "plt.xlabel('epoch')\n",
    "plt.yscale('log')\n",
    "plt.legend(['train', 'test'], loc='upper left')\n",
    "plt.show()\n",
    "plt.clf()"
   ]
  },
  {
   "cell_type": "code",
   "execution_count": null,
   "metadata": {
    "scrolled": true
   },
   "outputs": [],
   "source": [
    "print(\"Model Train MAE: \" + str(mean_absolute_error(y_train, model.predict(X_train.values))))\n",
    "print(\"Model Val MAE: \" + str(mean_absolute_error(y_val, model.predict(X_val.values))))\n",
    "print(\"Model Test MAE: \" + str(mean_absolute_error(y_test, model.predict(X_test.values))))"
   ]
  },
  {
   "cell_type": "code",
   "execution_count": null,
   "metadata": {
    "scrolled": true
   },
   "outputs": [],
   "source": [
    "print(\"Model Train MAE: \" + str(mean_squared_error(y_train, model.predict(X_train.values))))\n",
    "print(\"Model Val MAE: \" + str(mean_squared_error(y_val, model.predict(X_val.values))))\n",
    "print(\"Model Test MAE: \" + str(mean_squared_error(y_test, model.predict(X_test.values))))"
   ]
  },
  {
   "cell_type": "code",
   "execution_count": null,
   "metadata": {
    "scrolled": true
   },
   "outputs": [],
   "source": [
    "print(\"Model Train MAE: \" + str(mean_squared_log_error(y_train, model.predict(X_train.values))))\n",
    "print(\"Model Val MAE: \" + str(mean_squared_log_error(y_val, model.predict(X_val.values))))\n",
    "print(\"Model Test MAE: \" + str(mean_squared_log_error(y_test, model.predict(X_test.values))))"
   ]
  },
  {
   "cell_type": "code",
   "execution_count": null,
   "metadata": {},
   "outputs": [],
   "source": []
  },
  {
   "cell_type": "code",
   "execution_count": null,
   "metadata": {},
   "outputs": [],
   "source": [
    "plt.figure(figsize=(10,4))\n",
    "plt.plot(model.history.history['loss'])\n",
    "plt.plot(model.history.history['val_loss'])\n",
    "plt.plot(model.history.history['mean_squared_error'], label='mse')\n",
    "plt.plot(model.history.history['mean_absolute_error'], label='mae')\n",
    "plt.plot(model.history.history['mean_absolute_percentage_error'], label='mape')\n",
    "plt.plot(model.history.history['cosine_proximity'], label='cp')\n",
    "plt.ylabel('loss')\n",
    "plt.xlabel('epoch')\n",
    "plt.yscale('log')\n",
    "plt.legend()"
   ]
  },
  {
   "cell_type": "code",
   "execution_count": null,
   "metadata": {},
   "outputs": [],
   "source": [
    "print(\"Q3: Is your model underfitting, overfitting, or neither? Neither\")"
   ]
  },
  {
   "cell_type": "code",
   "execution_count": null,
   "metadata": {},
   "outputs": [],
   "source": []
  }
 ],
 "metadata": {
  "kernelspec": {
   "display_name": "ch2_v2",
   "language": "python",
   "name": "ch2_v2"
  },
  "language_info": {
   "codemirror_mode": {
    "name": "ipython",
    "version": 3
   },
   "file_extension": ".py",
   "mimetype": "text/x-python",
   "name": "python",
   "nbconvert_exporter": "python",
   "pygments_lexer": "ipython3",
   "version": "3.6.2"
  }
 },
 "nbformat": 4,
 "nbformat_minor": 2
}
